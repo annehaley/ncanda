{
 "cells": [
  {
   "cell_type": "markdown",
   "metadata": {},
   "source": [
    "# Detecting unuploaded forms based on the company they keep\n",
    "\n",
    "Some forms are always completed together. If one is uploaded and the others are not, then we should start looking for the reason why and either locate the form or mark it missing."
   ]
  },
  {
   "cell_type": "code",
   "execution_count": null,
   "metadata": {
    "tags": [
     "parameters"
    ]
   },
   "outputs": [],
   "source": [
    "form_group = None\n",
    "event = None\n",
    "site = None\n",
    "output_dir = None\n",
    "#classify_marked_missing_as_present = False"
   ]
  },
  {
   "cell_type": "code",
   "execution_count": null,
   "metadata": {
    "tags": [
     "parameters-eval"
    ]
   },
   "outputs": [],
   "source": [
    "if site is not None:\n",
    "    assert site in [\"sri\", \"ucsd\", \"upmc\", \"ohsu\", \"duke\"]\n",
    "include_dag = site is not None\n",
    "site_label = site if include_dag else \"all\"\n",
    "\n",
    "if form_group is None:\n",
    "    raise KeyError(\"Missing parameter `form_group`!\")"
   ]
  },
  {
   "cell_type": "code",
   "execution_count": null,
   "metadata": {},
   "outputs": [],
   "source": [
    "events = [event] if event is not None else None"
   ]
  },
  {
   "cell_type": "markdown",
   "metadata": {},
   "source": [
    "These are the forms that should co-occur. If they don't, then something has gone wrong."
   ]
  },
  {
   "cell_type": "code",
   "execution_count": null,
   "metadata": {},
   "outputs": [],
   "source": [
    "form_groups = {\n",
    "    'sleep': [\n",
    "        'sleep_study_evening_questionnaire',\n",
    "        'sleep_study_presleep_questionnaire',\n",
    "        'sleep_study_morning_questionnaire'\n",
    "    ],\n",
    "    'mri': [\n",
    "        'mr_session_report',\n",
    "        'mri_report'\n",
    "    ],\n",
    "    'deldisc_stroop': [\n",
    "        'delayed_discounting_1000',\n",
    "        'delayed_discounting_100',\n",
    "        'stroop'],\n",
    "    'deldisc': [\n",
    "        'delayed_discounting_1000', \n",
    "        'delayed_discounting_100'\n",
    "    ],\n",
    "    'youth_report': [\n",
    "        'youth_report_1',\n",
    "        'youth_report_1b',\n",
    "        'youth_report_2',\n",
    "    ],\n",
    "    'youth_report_lssaga': [\n",
    "        'youth_report_1',\n",
    "        'youth_report_1b',\n",
    "        'youth_report_2',\n",
    "        'limesurvey_ssaga_youth'\n",
    "    ],\n",
    "}\n",
    "\n",
    "# if form_group is not None:\n",
    "assert form_group in form_groups.keys()"
   ]
  },
  {
   "cell_type": "code",
   "execution_count": null,
   "metadata": {},
   "outputs": [],
   "source": [
    "import pandas as pd\n",
    "import numpy as np\n",
    "import os\n",
    "import sys\n",
    "sys.path.append('/sibis-software/python-packages/')\n",
    "import sibispy\n",
    "from sibispy import sibislogger as slog"
   ]
  },
  {
   "cell_type": "code",
   "execution_count": null,
   "metadata": {},
   "outputs": [],
   "source": [
    "from qa_utils import chunked_form_export, get_items_matching_regex, form_has_content, form_has_content_and_is_not_missing"
   ]
  },
  {
   "cell_type": "code",
   "execution_count": null,
   "metadata": {},
   "outputs": [],
   "source": [
    "pd.set_option(\"display.max_rows\", 500)\n",
    "pd.set_option(\"display.max_columns\", 500)"
   ]
  },
  {
   "cell_type": "code",
   "execution_count": null,
   "metadata": {},
   "outputs": [],
   "source": [
    "session = sibispy.Session()\n",
    "if not session.configure():\n",
    "    sys.exit()\n",
    "\n",
    "slog.init_log(None, None, \n",
    "              'QC: Check that logical groupings of forms are uploaded', \n",
    "              'check_form_groups', None)\n",
    "slog.startTimer1()\n",
    "\n",
    "# Setting specific constants for this run of QC\n",
    "api = session.connect_server('data_entry', True)\n",
    "primary_key = api.def_field"
   ]
  },
  {
   "cell_type": "code",
   "execution_count": null,
   "metadata": {},
   "outputs": [],
   "source": [
    "meta = api.export_metadata(format='df')"
   ]
  },
  {
   "cell_type": "markdown",
   "metadata": {},
   "source": [
    "To be considered as \"having content\", the form has to pass any of the three tests:\n",
    "\n",
    "1. Is it marked missing? If yes, then it has known content.\n",
    "2. Is it marked complete? If yes, then it has known content.\n",
    "3. Does it have non-NaN answers? If yes, then it has known content.\n",
    "\n",
    "In future iterations, it might not be unreasonable to stop considering the completion status -- if there is no content, then the record should be marked missing, not just complete."
   ]
  },
  {
   "cell_type": "markdown",
   "metadata": {},
   "source": [
    "Currently, the records get exported separately for each form group. Depending on future benchmarking, it might make sense to just get all the records and then scrape out the columns of interest."
   ]
  },
  {
   "cell_type": "code",
   "execution_count": null,
   "metadata": {},
   "outputs": [],
   "source": [
    "results = pd.DataFrame()\n",
    "results_detailed = pd.DataFrame()\n",
    "group_name = form_group\n",
    "forms = form_groups[group_name]\n",
    "data = chunked_form_export(api, forms=forms, events=events, include_dag=include_dag)\n",
    "if include_dag:\n",
    "    data = data.loc[data['redcap_data_access_group'] == site]"
   ]
  },
  {
   "cell_type": "code",
   "execution_count": null,
   "metadata": {},
   "outputs": [],
   "source": [
    "form_group_fields = [meta.loc[meta['form_name'] == form].index.tolist()\n",
    "                     for form in forms]\n",
    "# per_form_results = map(lambda form_fields: data.loc[:, form_fields].apply(form_has_content, axis=1), \n",
    "#                        form_group_fields)\n",
    "per_form_results = map(lambda form_fields: data.loc[:, form_fields].apply(form_has_content_and_is_not_missing, axis=1), \n",
    "                       form_group_fields)\n",
    "per_form_results = pd.concat(per_form_results, axis=1)\n",
    "per_form_results.columns = forms\n",
    "group_results = (per_form_results\n",
    "                 .apply(lambda row: row.any() and not row.all(), axis=1))\n",
    "group_results.name = group_name  #\"{}_overall\".format(group_name)"
   ]
  },
  {
   "cell_type": "code",
   "execution_count": null,
   "metadata": {},
   "outputs": [],
   "source": [
    "results = group_results\n",
    "results_detailed = pd.concat([group_results, per_form_results], axis=1)"
   ]
  },
  {
   "cell_type": "markdown",
   "metadata": {},
   "source": [
    "## Any participant/event combinations where one form is missing"
   ]
  },
  {
   "cell_type": "code",
   "execution_count": null,
   "metadata": {},
   "outputs": [],
   "source": [
    "data.head()"
   ]
  },
  {
   "cell_type": "code",
   "execution_count": null,
   "metadata": {
    "scrolled": false
   },
   "outputs": [],
   "source": [
    "#results.loc[results.apply(pd.Series.any, axis=1)]"
   ]
  },
  {
   "cell_type": "code",
   "execution_count": null,
   "metadata": {},
   "outputs": [],
   "source": [
    "if output_dir is not None:\n",
    "    file_name = 'grouping-{}-{}'.format(group_name, site_label)\n",
    "    if event is not None:\n",
    "        file_name = '{}-{}'.format(file_name, event)\n",
    "        \n",
    "    file_name = file_name + '.csv'\n",
    "    hit_only_file_name = '{}-hits.csv'.format(file_name)\n",
    "        \n",
    "    results_detailed.to_csv(os.path.join(output_dir, file_name))\n",
    "    (results_detailed\n",
    "     .loc[results_detailed[group_name]]\n",
    "     .to_csv(os.path.join(output_dir, hit_only_file_name)))"
   ]
  },
  {
   "cell_type": "code",
   "execution_count": null,
   "metadata": {
    "scrolled": true
   },
   "outputs": [],
   "source": [
    "results_detailed.loc[results_detailed[group_name]]"
   ]
  },
  {
   "cell_type": "code",
   "execution_count": null,
   "metadata": {},
   "outputs": [],
   "source": [
    "# tst = results_detailed.iloc[:3, :]\n",
    "# tst"
   ]
  },
  {
   "cell_type": "code",
   "execution_count": null,
   "metadata": {},
   "outputs": [],
   "source": [
    "# # https://ncanda.sri.com/redcap/redcap_v8.4.0/DataEntry/index.php?pid=20&event_id=78&id=A-00010-F-6&page=youth_report_1\n",
    "# from string import Template\n",
    "# TEMPLATE = Template(\"https://ncanda.sri.com/redcap/redcap_v8.4.0/DataEntry/index.php?pid=20&event_id=78&id={id}&page={form}\")\n",
    "# def linkify_column(col, template=None):\n",
    "#     # 1-D data point\n",
    "#     form_name = col.name\n",
    "#     # n data points\n",
    "#     study_ids = col.index.get_level_values('study_id')\n",
    "#     links = \n",
    "    \n",
    "# tst.apply(linkify_column, axis=0)"
   ]
  },
  {
   "cell_type": "code",
   "execution_count": null,
   "metadata": {},
   "outputs": [],
   "source": []
  }
 ],
 "metadata": {
  "celltoolbar": "Tags",
  "kernelspec": {
   "display_name": "Python 3",
   "language": "python",
   "name": "python3"
  },
  "language_info": {
   "codemirror_mode": {
    "name": "ipython",
    "version": 3
   },
   "file_extension": ".py",
   "mimetype": "text/x-python",
   "name": "python",
   "nbconvert_exporter": "python",
   "pygments_lexer": "ipython3",
   "version": "3.6.8"
  }
 },
 "nbformat": 4,
 "nbformat_minor": 2
}
