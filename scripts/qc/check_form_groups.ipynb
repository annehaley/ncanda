{
 "cells": [
  {
   "cell_type": "markdown",
   "metadata": {},
   "source": [
    "# Detecting unuploaded forms based on the company they keep\n",
    "\n",
    "Some forms are always completed together. If one is uploaded and the others are not, then we should start looking for the reason why and either locate the form or mark it missing."
   ]
  },
  {
   "cell_type": "code",
   "execution_count": null,
   "metadata": {},
   "outputs": [],
   "source": [
    "import pandas as pd\n",
    "import numpy as np\n",
    "import sibispy\n",
    "from sibispy import sibislogger as slog\n",
    "import sys"
   ]
  },
  {
   "cell_type": "code",
   "execution_count": null,
   "metadata": {},
   "outputs": [],
   "source": [
    "pd.set_option(\"display.max_rows\", 500)\n",
    "pd.set_option(\"display.max_columns\", 500)"
   ]
  },
  {
   "cell_type": "code",
   "execution_count": null,
   "metadata": {},
   "outputs": [],
   "source": [
    "session = sibispy.Session()\n",
    "if not session.configure():\n",
    "    sys.exit()\n",
    "\n",
    "slog.init_log(None, None, \n",
    "              'QC: Check that logical groupings of forms are uploaded', \n",
    "              'check_form_groups', None)\n",
    "slog.startTimer1()\n",
    "\n",
    "# Setting specific constants for this run of QC\n",
    "api = session.connect_server('data_entry', True)\n",
    "primary_key = api.def_field"
   ]
  },
  {
   "cell_type": "code",
   "execution_count": null,
   "metadata": {},
   "outputs": [],
   "source": [
    "meta = api.export_metadata(format='df')"
   ]
  },
  {
   "cell_type": "code",
   "execution_count": null,
   "metadata": {},
   "outputs": [],
   "source": [
    "def get_items_matching_regex(regex, haystack):\n",
    "    import re\n",
    "    return filter(lambda x: re.search(regex, x), haystack)"
   ]
  },
  {
   "cell_type": "markdown",
   "metadata": {},
   "source": [
    "To be considered as \"having content\", the form has to pass any of the three tests:\n",
    "\n",
    "1. Is it marked missing? If yes, then it has known content.\n",
    "2. Is it marked complete? If yes, then it has known content.\n",
    "3. Does it have non-NaN answers? If yes, then it has known content.\n",
    "\n",
    "In future iterations, it might not be unreasonable to stop considering the completion status -- if there is no content, then the record should be marked missing, not just complete."
   ]
  },
  {
   "cell_type": "code",
   "execution_count": null,
   "metadata": {},
   "outputs": [],
   "source": [
    "def form_has_content(row):\n",
    "    \"\"\" If the form is knowledgeably not empty (e.g. marked missing or \n",
    "    marked complete) or it has content in it, it is considered to have content. \"\"\"\n",
    "    try:\n",
    "        columns = row.columns.tolist()\n",
    "    except:\n",
    "        columns = row.index.tolist()\n",
    "    cols_complete = get_items_matching_regex(\"complete$\", columns)\n",
    "    cols_missing  = get_items_matching_regex(\"missing$\", columns)\n",
    "    cols_checklist = get_items_matching_regex(\"___\", columns)\n",
    "    \n",
    "    if cols_missing:\n",
    "        missing = (row[cols_missing] == 1).any()\n",
    "    else:\n",
    "        missing = None\n",
    "    \n",
    "    if cols_complete:\n",
    "        complete = (row[cols_complete] in [2]).any()\n",
    "    else:\n",
    "        complete = False\n",
    "    \n",
    "    non_nan_items = row.drop(cols_complete + cols_missing + cols_checklist).notnull().any()\n",
    "    \n",
    "    return missing | complete | non_nan_items"
   ]
  },
  {
   "cell_type": "markdown",
   "metadata": {},
   "source": [
    "These are the forms that should co-occur. If they don't, then something has gone wrong."
   ]
  },
  {
   "cell_type": "code",
   "execution_count": null,
   "metadata": {},
   "outputs": [],
   "source": [
    "form_groups = {\n",
    "    'sleep': ['sleep_study_evening_questionnaire',\n",
    "              'sleep_study_presleep_questionnaire',\n",
    "              'sleep_study_morning_questionnaire'],\n",
    "    'mri': ['mr_session_report',\n",
    "            'mri_report'],\n",
    "    'deldisc': ['delayed_discounting_1000',\n",
    "                'delayed_discounting_100'],\n",
    "    'youth_report': ['youth_report_1',\n",
    "                     'youth_report_1b',\n",
    "                     'youth_report_2']\n",
    "}"
   ]
  },
  {
   "cell_type": "markdown",
   "metadata": {},
   "source": [
    "Currently, the records get exported separately for each form group. Depending on future benchmarking, it might make sense to just get all the records and then scrape out the columns of interest."
   ]
  },
  {
   "cell_type": "code",
   "execution_count": null,
   "metadata": {},
   "outputs": [],
   "source": [
    "results = pd.DataFrame()\n",
    "results_detailed = pd.DataFrame()\n",
    "for group_name, form_group in form_groups.items():\n",
    "    data = api.export_records(fields=[api.def_field], forms=form_group, format=\"df\")\n",
    "    form_group_fields = [meta.loc[meta['form_name'] == form].index.tolist()\n",
    "                         for form in form_group]\n",
    "    per_form_results = map(lambda form_fields: data.loc[:, form_fields].apply(form_has_content, axis=1), \n",
    "                           form_group_fields)\n",
    "    per_form_results = pd.concat(per_form_results, axis=1)\n",
    "    per_form_results.columns = form_group\n",
    "    group_results = (per_form_results\n",
    "                     .apply(lambda row: row.any() and not row.all(), axis=1))\n",
    "    group_results.name = group_name\n",
    "    results = pd.concat([results, group_results], axis=1)\n",
    "    results_detailed = pd.concat([results_detailed, group_results, per_form_results], axis=1)"
   ]
  },
  {
   "cell_type": "markdown",
   "metadata": {},
   "source": [
    "## Any participant/event combinations where one form is missing"
   ]
  },
  {
   "cell_type": "code",
   "execution_count": null,
   "metadata": {},
   "outputs": [],
   "source": [
    "results.loc[results.apply(pd.Series.any, axis=1)]"
   ]
  }
 ],
 "metadata": {
  "kernelspec": {
   "display_name": "Python 2",
   "language": "python",
   "name": "python2"
  },
  "language_info": {
   "codemirror_mode": {
    "name": "ipython",
    "version": 2
   },
   "file_extension": ".py",
   "mimetype": "text/x-python",
   "name": "python",
   "nbconvert_exporter": "python",
   "pygments_lexer": "ipython2",
   "version": "2.7.14"
  }
 },
 "nbformat": 4,
 "nbformat_minor": 2
}
