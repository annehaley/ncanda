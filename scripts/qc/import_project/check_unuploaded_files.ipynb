{
 "cells": [
  {
   "cell_type": "markdown",
   "metadata": {},
   "source": [
    "This file:\n",
    "\n",
    "1. Loads all available records from the Import Project\n",
    "2. Gathers completion/emptiness features about each record in empty project\n",
    "3. Cross-checks with harvester-generated CSV files to see if they correspond to a non-empty record\n",
    "4. Writes out the files suspected of not having been uploaded to the Import project\n",
    "\n",
    "## To run:\n",
    "\n",
    "Ensure that your API key is stored in an environment variable `REDCAP_IMPORT_KEY`.\n",
    "\n",
    "```bash\n",
    "source activate ncanda-1.0.0\n",
    "jupyter nbconvert --to notebook --execute check_unuploaded_files.ipynb\n",
    "# or (equivalently)\n",
    "python check_unuploaded_files.py\n",
    "```\n",
    "\n",
    "Currently, results are written into `not_in_import.txt`.\n",
    "\n",
    "## TODO: Converting to CLI\n",
    "- Use sibis config for API key\n",
    "- Print to stdin or optional `-o` file\n",
    "- Should extract out load_all and chunked_export to general utilities"
   ]
  },
  {
   "cell_type": "markdown",
   "metadata": {},
   "source": [
    "## 1. Loading all available records"
   ]
  },
  {
   "cell_type": "code",
   "execution_count": 1,
   "metadata": {},
   "outputs": [],
   "source": [
    "import pandas as pd\n",
    "import os\n",
    "import redcap as rc\n",
    "import numpy as np"
   ]
  },
  {
   "cell_type": "code",
   "execution_count": 2,
   "metadata": {},
   "outputs": [],
   "source": [
    "pd.set_option(\"display.max_rows\", 500)\n",
    "pd.set_option(\"display.max_columns\", 500)"
   ]
  },
  {
   "cell_type": "code",
   "execution_count": 3,
   "metadata": {},
   "outputs": [],
   "source": [
    "REDCAP_IMPORT_KEY = os.environ['REDCAP_IMPORT_KEY']\n",
    "api_url = 'https://ncanda.sri.com/redcap/api/'\n",
    "api = rc.Project(api_url, REDCAP_IMPORT_KEY)\n",
    "primary_key = api.def_field"
   ]
  },
  {
   "cell_type": "code",
   "execution_count": 4,
   "metadata": {},
   "outputs": [
    {
     "data": {
      "text/plain": [
       "['visit_information',\n",
       " 'delayed_discounting_1000',\n",
       " 'delayed_discounting_100',\n",
       " 'paced_auditory_serial_addition_test_pasat',\n",
       " 'ssaga_youth',\n",
       " 'ssaga_parent',\n",
       " 'stroop',\n",
       " 'youth_report_1',\n",
       " 'youth_report_1b',\n",
       " 'youth_report_2',\n",
       " 'parent_report',\n",
       " 'mri_report',\n",
       " 'sleep_study_evening_questionnaire',\n",
       " 'sleep_study_presleep_questionnaire',\n",
       " 'sleep_study_morning_questionnaire',\n",
       " 'midyear_youth_interview',\n",
       " 'limesurvey_ssaga_part_1_youth',\n",
       " 'limesurvey_ssaga_part_2_youth',\n",
       " 'limesurvey_ssaga_part_3_youth',\n",
       " 'limesurvey_ssaga_part_4_youth',\n",
       " 'limesurvey_ssaga_part_1_parent',\n",
       " 'limesurvey_ssaga_part_2_parent',\n",
       " 'limesurvey_ssaga_part_3_parent',\n",
       " 'limesurvey_ssaga_part_4_parent',\n",
       " 'participant_last_use_summary',\n",
       " 'recovery_questionnaire']"
      ]
     },
     "execution_count": 4,
     "metadata": {},
     "output_type": "execute_result"
    }
   ],
   "source": [
    "meta = api.export_metadata(format='df')\n",
    "forms = meta.form_name.unique().tolist()\n",
    "forms"
   ]
  },
  {
   "cell_type": "code",
   "execution_count": 5,
   "metadata": {},
   "outputs": [],
   "source": [
    "# Taken from http://pycap.readthedocs.io/en/latest/deep.html#dealing-with-large-exports\n",
    "# and adapted to scope down to forms\n",
    "def chunked_export(project, form, chunk_size=100):\n",
    "    def chunks(l, n):\n",
    "        \"\"\"Yield successive n-sized chunks from list l\"\"\"\n",
    "        for i in xrange(0, len(l), n):\n",
    "            yield l[i:i+n]\n",
    "    record_list = project.export_records(fields=[project.def_field])\n",
    "    records = [r[project.def_field] for r in record_list]\n",
    "    #print \"Total records: %d\" % len(records)\n",
    "    try:\n",
    "        response = None\n",
    "        record_count = 0\n",
    "        for record_chunk in chunks(records, chunk_size):\n",
    "            record_count = record_count + chunk_size\n",
    "            #print record_count\n",
    "            chunked_response = project.export_records(records=record_chunk, \n",
    "                                                      fields=[project.def_field],\n",
    "                                                      forms=[form], format='df')\n",
    "            if response is not None:\n",
    "                response = pd.concat([response, chunked_response], axis=0)\n",
    "            else:\n",
    "                response = chunked_response\n",
    "    except rc.RedcapError:\n",
    "        msg = \"Chunked export failed for chunk_size={:d}\".format(chunk_size)\n",
    "        raise ValueError(msg)\n",
    "    else:\n",
    "        return response"
   ]
  },
  {
   "cell_type": "code",
   "execution_count": 6,
   "metadata": {},
   "outputs": [],
   "source": [
    "def load_form(api, form_name):\n",
    "    print form_name\n",
    "    # 1. Standard load attempt\n",
    "    try:\n",
    "        print \"Trying standard export\"\n",
    "        return api.export_records(fields=[api.def_field],\n",
    "                                  forms=[form_name],\n",
    "                                  format='df')\n",
    "    except rc.RedcapError:\n",
    "        pass\n",
    "    \n",
    "    # 2. Chunked load with chunk size of 1000\n",
    "    try:\n",
    "        print \"Trying chunked export, 1000 records at a time\"\n",
    "        return chunked_export(api, form_name, 1000)\n",
    "    except rc.RedcapError:\n",
    "        pass\n",
    "    \n",
    "    # 2. Chunked load with default chunk size\n",
    "    try:\n",
    "        print \"Trying chunked export, default chunk size (100)\"\n",
    "        return chunked_export(api, form_name)\n",
    "    except rc.RedcapError:\n",
    "        pass\n",
    "    \n",
    "    # 3. Chunked load with tiny chunk\n",
    "    try:\n",
    "        print \"Trying chunked export with tiny chunks (10)\"\n",
    "        return chunked_export(api, form_name, 10)\n",
    "    except rc.RedcapError:\n",
    "        print \"Giving up\"\n",
    "        return None"
   ]
  },
  {
   "cell_type": "code",
   "execution_count": 7,
   "metadata": {
    "scrolled": true
   },
   "outputs": [
    {
     "name": "stdout",
     "output_type": "stream",
     "text": [
      "visit_information\n",
      "Trying standard export\n",
      "delayed_discounting_1000\n",
      "Trying standard export\n",
      "delayed_discounting_100\n",
      "Trying standard export\n",
      "paced_auditory_serial_addition_test_pasat\n",
      "Trying standard export\n",
      "ssaga_youth\n",
      "Trying standard export\n"
     ]
    },
    {
     "name": "stderr",
     "output_type": "stream",
     "text": [
      "/fs/u00/simon/.conda/envs/ncanda-dev-simon/lib/python2.7/site-packages/ipykernel_launcher.py:1: DtypeWarning: Columns (151,152,449) have mixed types. Specify dtype option on import or set low_memory=False.\n",
      "  \"\"\"Entry point for launching an IPython kernel.\n"
     ]
    },
    {
     "name": "stdout",
     "output_type": "stream",
     "text": [
      "ssaga_parent\n",
      "Trying standard export\n"
     ]
    },
    {
     "name": "stderr",
     "output_type": "stream",
     "text": [
      "/fs/u00/simon/.conda/envs/ncanda-dev-simon/lib/python2.7/site-packages/ipykernel_launcher.py:1: DtypeWarning: Columns (4,108,446) have mixed types. Specify dtype option on import or set low_memory=False.\n",
      "  \"\"\"Entry point for launching an IPython kernel.\n"
     ]
    },
    {
     "name": "stdout",
     "output_type": "stream",
     "text": [
      "stroop\n",
      "Trying standard export\n",
      "youth_report_1\n",
      "Trying standard export\n"
     ]
    },
    {
     "name": "stderr",
     "output_type": "stream",
     "text": [
      "/fs/u00/simon/.conda/envs/ncanda-dev-simon/lib/python2.7/site-packages/ipykernel_launcher.py:1: DtypeWarning: Columns (1,2,4,26,34,35,46,56,57,59,62,76,80,82,83,84,86,95,101,105,107,111,121,122,125,128,150,152,313,364,367,369,392,395,398,463,475,478,480,483,485,488,528,529,530,532,534,542,544,545,546,548,550,551,552,553,554,555,556,557,558,559,560,561,562,565,569,573) have mixed types. Specify dtype option on import or set low_memory=False.\n",
      "  \"\"\"Entry point for launching an IPython kernel.\n"
     ]
    },
    {
     "name": "stdout",
     "output_type": "stream",
     "text": [
      "youth_report_1b\n",
      "Trying standard export\n"
     ]
    },
    {
     "name": "stderr",
     "output_type": "stream",
     "text": [
      "/fs/u00/simon/.conda/envs/ncanda-dev-simon/lib/python2.7/site-packages/ipykernel_launcher.py:1: DtypeWarning: Columns (1,2,4,17,315,341,342) have mixed types. Specify dtype option on import or set low_memory=False.\n",
      "  \"\"\"Entry point for launching an IPython kernel.\n"
     ]
    },
    {
     "name": "stdout",
     "output_type": "stream",
     "text": [
      "youth_report_2\n",
      "Trying standard export\n"
     ]
    },
    {
     "name": "stderr",
     "output_type": "stream",
     "text": [
      "/fs/u00/simon/.conda/envs/ncanda-dev-simon/lib/python2.7/site-packages/ipykernel_launcher.py:1: DtypeWarning: Columns (1,2,4,25,114,115,364,365,366,367,368,369,425,436,442,443,444,445,446,448,450,453,454,455,456,457,458,459,460,462,463,465,475,495,502,761,762) have mixed types. Specify dtype option on import or set low_memory=False.\n",
      "  \"\"\"Entry point for launching an IPython kernel.\n"
     ]
    },
    {
     "name": "stdout",
     "output_type": "stream",
     "text": [
      "parent_report\n",
      "Trying standard export\n"
     ]
    },
    {
     "name": "stderr",
     "output_type": "stream",
     "text": [
      "/fs/u00/simon/.conda/envs/ncanda-dev-simon/lib/python2.7/site-packages/ipykernel_launcher.py:1: DtypeWarning: Columns (4,19,43,52,65,67,69,70,72,74,75,77,79,113,126,127,129,130,131,132,133,134,135,136,137,138,139,140,141,152,156,161,162,171,174,175,177,178,180,181,183,184,200,202,346,348,352,353,355) have mixed types. Specify dtype option on import or set low_memory=False.\n",
      "  \"\"\"Entry point for launching an IPython kernel.\n"
     ]
    },
    {
     "name": "stdout",
     "output_type": "stream",
     "text": [
      "mri_report\n",
      "Trying standard export\n"
     ]
    },
    {
     "name": "stderr",
     "output_type": "stream",
     "text": [
      "/fs/u00/simon/.conda/envs/ncanda-dev-simon/lib/python2.7/site-packages/ipykernel_launcher.py:1: DtypeWarning: Columns (19,64,67,96) have mixed types. Specify dtype option on import or set low_memory=False.\n",
      "  \"\"\"Entry point for launching an IPython kernel.\n"
     ]
    },
    {
     "name": "stdout",
     "output_type": "stream",
     "text": [
      "sleep_study_evening_questionnaire\n",
      "Trying standard export\n",
      "sleep_study_presleep_questionnaire\n",
      "Trying standard export\n",
      "sleep_study_morning_questionnaire\n",
      "Trying standard export\n"
     ]
    },
    {
     "name": "stderr",
     "output_type": "stream",
     "text": [
      "/fs/u00/simon/.conda/envs/ncanda-dev-simon/lib/python2.7/site-packages/ipykernel_launcher.py:1: DtypeWarning: Columns (1,2,4,7,9,11,12,13,14,17,50,51,52,53,54,55,56,57) have mixed types. Specify dtype option on import or set low_memory=False.\n",
      "  \"\"\"Entry point for launching an IPython kernel.\n"
     ]
    },
    {
     "name": "stdout",
     "output_type": "stream",
     "text": [
      "midyear_youth_interview\n",
      "Trying standard export\n"
     ]
    },
    {
     "name": "stderr",
     "output_type": "stream",
     "text": [
      "/fs/u00/simon/.conda/envs/ncanda-dev-simon/lib/python2.7/site-packages/ipykernel_launcher.py:1: DtypeWarning: Columns (1,2,4,16,22,26,29,36,37,39,40,42,43,128,131,132,136,137,149,156,160,163,164) have mixed types. Specify dtype option on import or set low_memory=False.\n",
      "  \"\"\"Entry point for launching an IPython kernel.\n"
     ]
    },
    {
     "name": "stdout",
     "output_type": "stream",
     "text": [
      "limesurvey_ssaga_part_1_youth\n",
      "Trying standard export\n",
      "Trying chunked export, 1000 records at a time\n"
     ]
    },
    {
     "name": "stderr",
     "output_type": "stream",
     "text": [
      "/fs/u00/simon/.conda/envs/ncanda-dev-simon/lib/python2.7/site-packages/ipykernel_launcher.py:1: DtypeWarning: Columns (1,26,35,162,214,250,272,294,295,302,317,320,360,382,449,470,471,514,536,558,664,714,716,718,720,727,728,729,730,732,733,735,772,822,860,989,1053,1054,1055,1489,1490,1559,1561,1563,1564,1570) have mixed types. Specify dtype option on import or set low_memory=False.\n",
      "  \"\"\"Entry point for launching an IPython kernel.\n",
      "/fs/u00/simon/.conda/envs/ncanda-dev-simon/lib/python2.7/site-packages/ipykernel_launcher.py:1: DtypeWarning: Columns (16,26,71,153,228,236,298,316,360,470,558,583,717,718,728,729,730,731,732,772,822,996,1051,1052,1093,1490,1495,1554,1555,1556,1557,1560,1561,1563,1564,1567,1569,1570,1571,1682) have mixed types. Specify dtype option on import or set low_memory=False.\n",
      "  \"\"\"Entry point for launching an IPython kernel.\n",
      "/fs/u00/simon/.conda/envs/ncanda-dev-simon/lib/python2.7/site-packages/ipykernel_launcher.py:1: DtypeWarning: Columns (16,138,139,140,141,142,229,250,251,272,294,316,386,390,404,405,426,448,470,558,583,716,717,718,719,727,729,730,734,772,797,812,855,989,1048,1049,1052,1495,1531,1533,1557,1561,1562,1563,1564,1565,1569) have mixed types. Specify dtype option on import or set low_memory=False.\n",
      "  \"\"\"Entry point for launching an IPython kernel.\n",
      "/fs/u00/simon/.conda/envs/ncanda-dev-simon/lib/python2.7/site-packages/ipykernel_launcher.py:1: DtypeWarning: Columns (1,2,16,139,141,142,228,250,294,298,404,448,558,560,562,772,1048,1051,1052,1054,1055,1495,1559,1565) have mixed types. Specify dtype option on import or set low_memory=False.\n",
      "  \"\"\"Entry point for launching an IPython kernel.\n",
      "/fs/u00/simon/.conda/envs/ncanda-dev-simon/lib/python2.7/site-packages/ipykernel_launcher.py:1: DtypeWarning: Columns (4,16,35,161,272,276,294,382,426,430,448,558,560,714,772,1049,1050,1054,1055,1093,1417,1490,1491,1495,1554,1555,1563,1565,1682) have mixed types. Specify dtype option on import or set low_memory=False.\n",
      "  \"\"\"Entry point for launching an IPython kernel.\n",
      "/fs/u00/simon/.conda/envs/ncanda-dev-simon/lib/python2.7/site-packages/ipykernel_launcher.py:1: DtypeWarning: Columns (2,26,71,74,138,140,162,250,251,272,294,295,298,302,306,310,317,361,364,404,405,426,448,449,452,470,471,515,537,717,718,719,827,982,984,986,989,1050,1052,1054,1087,1220,1490,1535,1561,1563,1566,1567,1661) have mixed types. Specify dtype option on import or set low_memory=False.\n",
      "  \"\"\"Entry point for launching an IPython kernel.\n",
      "/fs/u00/simon/.conda/envs/ncanda-dev-simon/lib/python2.7/site-packages/ipykernel_launcher.py:1: DtypeWarning: Columns (35,162,262,302,361,364,383,386,390,408,412,416,448,452,456,515,537,715,717,718,719,720,727,728,729,730,733,735,772,817,827,840,860,865,982,989,1050,1054,1187,1188,1490,1492,1495,1531,1533,1560,1564,1567,1571,1661) have mixed types. Specify dtype option on import or set low_memory=False.\n",
      "  \"\"\"Entry point for launching an IPython kernel.\n",
      "/fs/u00/simon/.conda/envs/ncanda-dev-simon/lib/python2.7/site-packages/ipykernel_launcher.py:1: DtypeWarning: Columns (2,16,26,42,138,153,229,250,251,254,295,298,302,316,320,382,386,390,404,405,449,470,474,536,583,716,717,718,727,729,733,734,735,772,807,812,855,989,1050,1055,1093,1184,1185,1187,1188,1189,1489,1490,1533,1555,1556,1557,1560,1564,1570) have mixed types. Specify dtype option on import or set low_memory=False.\n",
      "  \"\"\"Entry point for launching an IPython kernel.\n",
      "/fs/u00/simon/.conda/envs/ncanda-dev-simon/lib/python2.7/site-packages/ipykernel_launcher.py:1: DtypeWarning: Columns (2,4,20,26,35,42,236,316,383,470,536,556,583,664,697,715,717,718,720,731,734,735,802,807,1187,1189,1489,1495,1554,1559,1560,1561,1562,1563,1564,1565,1567,1569,1570,1571) have mixed types. Specify dtype option on import or set low_memory=False.\n",
      "  \"\"\"Entry point for launching an IPython kernel.\n",
      "/fs/u00/simon/.conda/envs/ncanda-dev-simon/lib/python2.7/site-packages/ipykernel_launcher.py:1: DtypeWarning: Columns (4,16,20,162,228,236,251,276,295,298,302,316,382,448,492,556,697,730,733,772,1404,1489,1493,1494,1495,1564,1569,1661) have mixed types. Specify dtype option on import or set low_memory=False.\n",
      "  \"\"\"Entry point for launching an IPython kernel.\n",
      "/fs/u00/simon/.conda/envs/ncanda-dev-simon/lib/python2.7/site-packages/ipykernel_launcher.py:1: DtypeWarning: Columns (4,20,21,74,140,154,162,272,316,470,556,584,664,715,717,718,719,727,728,729,732,817,827,989,1049,1050,1054,1093,1184,1187,1189,1489,1490,1559,1560,1563,1569,1570,1661,1682) have mixed types. Specify dtype option on import or set low_memory=False.\n",
      "  \"\"\"Entry point for launching an IPython kernel.\n",
      "/fs/u00/simon/.conda/envs/ncanda-dev-simon/lib/python2.7/site-packages/ipykernel_launcher.py:1: DtypeWarning: Columns (2,4,138,139,140,141,142,236,382,583,664,717,718,719,720,727,728,729,730,733,734,735,772,812,817,822,989,996,1048,1051,1053,1054,1055,1188,1489,1491,1492,1494,1555,1556,1558,1567,1570,1571) have mixed types. Specify dtype option on import or set low_memory=False.\n",
      "  \"\"\"Entry point for launching an IPython kernel.\n",
      "/fs/u00/simon/.conda/envs/ncanda-dev-simon/lib/python2.7/site-packages/ipykernel_launcher.py:1: DtypeWarning: Columns (2,4,16,26,71,140,235,236,360,556,558,719,807,822,1050,1184,1187,1188,1495,1554,1561,1565,1567,1700,1701,1702) have mixed types. Specify dtype option on import or set low_memory=False.\n",
      "  \"\"\"Entry point for launching an IPython kernel.\n"
     ]
    },
    {
     "name": "stdout",
     "output_type": "stream",
     "text": [
      "limesurvey_ssaga_part_2_youth\n",
      "Trying standard export\n",
      "Trying chunked export, 1000 records at a time\n"
     ]
    },
    {
     "name": "stderr",
     "output_type": "stream",
     "text": [
      "/fs/u00/simon/.conda/envs/ncanda-dev-simon/lib/python2.7/site-packages/ipykernel_launcher.py:1: DtypeWarning: Columns (1,164,165,797,847,852,1427,1428,1445,1539,1540,1541,1544,1546,1548,1549,1551) have mixed types. Specify dtype option on import or set low_memory=False.\n",
      "  \"\"\"Entry point for launching an IPython kernel.\n",
      "/fs/u00/simon/.conda/envs/ncanda-dev-simon/lib/python2.7/site-packages/ipykernel_launcher.py:1: DtypeWarning: Columns (765,768,775,777,778,779,783,792,793,797,800,802,803,804,807,808,812,832,847,852,857,1428,1436,1437,1489,1492,1539,1540,1541,1542,1549,1550,1577) have mixed types. Specify dtype option on import or set low_memory=False.\n",
      "  \"\"\"Entry point for launching an IPython kernel.\n",
      "/fs/u00/simon/.conda/envs/ncanda-dev-simon/lib/python2.7/site-packages/ipykernel_launcher.py:1: DtypeWarning: Columns (164,165,168,169,1427,1428,1436,1437,1445,1446,1465,1489,1539,1540,1545,1549,1577) have mixed types. Specify dtype option on import or set low_memory=False.\n",
      "  \"\"\"Entry point for launching an IPython kernel.\n",
      "/fs/u00/simon/.conda/envs/ncanda-dev-simon/lib/python2.7/site-packages/ipykernel_launcher.py:1: DtypeWarning: Columns (1,2,4,1436,1437,1445,1489) have mixed types. Specify dtype option on import or set low_memory=False.\n",
      "  \"\"\"Entry point for launching an IPython kernel.\n",
      "/fs/u00/simon/.conda/envs/ncanda-dev-simon/lib/python2.7/site-packages/ipykernel_launcher.py:1: DtypeWarning: Columns (4,150,1313,1423,1424,1425,1427,1428,1437,1445,1489,1492) have mixed types. Specify dtype option on import or set low_memory=False.\n",
      "  \"\"\"Entry point for launching an IPython kernel.\n",
      "/fs/u00/simon/.conda/envs/ncanda-dev-simon/lib/python2.7/site-packages/ipykernel_launcher.py:1: DtypeWarning: Columns (164,165,168,169,172,173,1427,1428,1436,1437,1445,1577) have mixed types. Specify dtype option on import or set low_memory=False.\n",
      "  \"\"\"Entry point for launching an IPython kernel.\n",
      "/fs/u00/simon/.conda/envs/ncanda-dev-simon/lib/python2.7/site-packages/ipykernel_launcher.py:1: DtypeWarning: Columns (1437,1447,1465,1539,1540,1544,1546,1548,1568) have mixed types. Specify dtype option on import or set low_memory=False.\n",
      "  \"\"\"Entry point for launching an IPython kernel.\n",
      "/fs/u00/simon/.conda/envs/ncanda-dev-simon/lib/python2.7/site-packages/ipykernel_launcher.py:1: DtypeWarning: Columns (2,150,809,855,859,1437,1445,1446,1542,1543,1545) have mixed types. Specify dtype option on import or set low_memory=False.\n",
      "  \"\"\"Entry point for launching an IPython kernel.\n",
      "/fs/u00/simon/.conda/envs/ncanda-dev-simon/lib/python2.7/site-packages/ipykernel_launcher.py:1: DtypeWarning: Columns (2,4,791,856,1437,1492,1544,1546,1547,1550,1551) have mixed types. Specify dtype option on import or set low_memory=False.\n",
      "  \"\"\"Entry point for launching an IPython kernel.\n",
      "/fs/u00/simon/.conda/envs/ncanda-dev-simon/lib/python2.7/site-packages/ipykernel_launcher.py:1: DtypeWarning: Columns (4,164,168,809,1427,1445,1489,1547,1552) have mixed types. Specify dtype option on import or set low_memory=False.\n",
      "  \"\"\"Entry point for launching an IPython kernel.\n",
      "/fs/u00/simon/.conda/envs/ncanda-dev-simon/lib/python2.7/site-packages/ipykernel_launcher.py:1: DtypeWarning: Columns (4,1436,1489) have mixed types. Specify dtype option on import or set low_memory=False.\n",
      "  \"\"\"Entry point for launching an IPython kernel.\n",
      "/fs/u00/simon/.conda/envs/ncanda-dev-simon/lib/python2.7/site-packages/ipykernel_launcher.py:1: DtypeWarning: Columns (2,4,779,784,789,794,814,859,1436,1437,1539,1540) have mixed types. Specify dtype option on import or set low_memory=False.\n",
      "  \"\"\"Entry point for launching an IPython kernel.\n",
      "/fs/u00/simon/.conda/envs/ncanda-dev-simon/lib/python2.7/site-packages/ipykernel_launcher.py:1: DtypeWarning: Columns (2,4,531,776,778,783,788,790,795,796,800,803,805,808,810,811,813,825,831,833,835,845,1424,1428,1436,1492,1539,1540,1541,1542,1543,1544,1545,1546,1547,1548,1549,1550,1551) have mixed types. Specify dtype option on import or set low_memory=False.\n",
      "  \"\"\"Entry point for launching an IPython kernel.\n"
     ]
    },
    {
     "name": "stdout",
     "output_type": "stream",
     "text": [
      "limesurvey_ssaga_part_3_youth\n",
      "Trying standard export\n",
      "Trying chunked export, 1000 records at a time\n"
     ]
    },
    {
     "name": "stderr",
     "output_type": "stream",
     "text": [
      "/fs/u00/simon/.conda/envs/ncanda-dev-simon/lib/python2.7/site-packages/ipykernel_launcher.py:1: DtypeWarning: Columns (1,95,162,201,203,204,206,207,211,215,217,218,220,224,225,264,267,343,345,377,380,382,386,394,428,429,430,433,434,435,437,439,493,494,495,499,576,588,628,631,647,649,711,849,851,852,853) have mixed types. Specify dtype option on import or set low_memory=False.\n",
      "  \"\"\"Entry point for launching an IPython kernel.\n",
      "/fs/u00/simon/.conda/envs/ncanda-dev-simon/lib/python2.7/site-packages/ipykernel_launcher.py:1: DtypeWarning: Columns (2,38,210,217,220,276,343,376,379,394,428,430,431,432,433,434,435,436,437,438,439,489,490,491,492,493,494,495,496,497,579,580,586,592,602,603,605,625,626,645,648,649,845,847,848,849,851,852,853,854) have mixed types. Specify dtype option on import or set low_memory=False.\n",
      "  \"\"\"Entry point for launching an IPython kernel.\n",
      "/fs/u00/simon/.conda/envs/ncanda-dev-simon/lib/python2.7/site-packages/ipykernel_launcher.py:1: DtypeWarning: Columns (36,209,210,375,376,379,430,432,492,494,497,567,584,589,604,628,711,852) have mixed types. Specify dtype option on import or set low_memory=False.\n",
      "  \"\"\"Entry point for launching an IPython kernel.\n",
      "/fs/u00/simon/.conda/envs/ncanda-dev-simon/lib/python2.7/site-packages/ipykernel_launcher.py:1: DtypeWarning: Columns (1,2,4,162,200,203,206,207,209,210,214,217,219,224,225,343,376,381,394,395,580,587,628,629,631,645,646,647,649,847) have mixed types. Specify dtype option on import or set low_memory=False.\n",
      "  \"\"\"Entry point for launching an IPython kernel.\n",
      "/fs/u00/simon/.conda/envs/ncanda-dev-simon/lib/python2.7/site-packages/ipykernel_launcher.py:1: DtypeWarning: Columns (4,36,38,42,74,202,205,219,276,375,376,380,381,395,579,584,586,592,603,605,606,626,645,648,846,847,848,851,852,853,854) have mixed types. Specify dtype option on import or set low_memory=False.\n",
      "  \"\"\"Entry point for launching an IPython kernel.\n",
      "/fs/u00/simon/.conda/envs/ncanda-dev-simon/lib/python2.7/site-packages/ipykernel_launcher.py:1: DtypeWarning: Columns (38,42,162,201,202,203,209,210,224,225,345,375,379,380,385,428,429,430,431,432,433,434,435,436,437,438,439,490,491,492,493,494,495,496,497,499,500,575,579,584,587,606,628,629,631,646,649,848,849,851,852,853,854,855,870) have mixed types. Specify dtype option on import or set low_memory=False.\n",
      "  \"\"\"Entry point for launching an IPython kernel.\n",
      "/fs/u00/simon/.conda/envs/ncanda-dev-simon/lib/python2.7/site-packages/ipykernel_launcher.py:1: DtypeWarning: Columns (200,207,210,376,377,380,385,395,581,587,604,628,648,851,855) have mixed types. Specify dtype option on import or set low_memory=False.\n",
      "  \"\"\"Entry point for launching an IPython kernel.\n",
      "/fs/u00/simon/.conda/envs/ncanda-dev-simon/lib/python2.7/site-packages/ipykernel_launcher.py:1: DtypeWarning: Columns (2,42,95,153,162,201,205,210,211,214,223,224,225,345,375,378,379,385,386,387,394,428,429,430,431,432,433,435,436,439,489,490,492,493,496,497,499,500,581,583,584,855) have mixed types. Specify dtype option on import or set low_memory=False.\n",
      "  \"\"\"Entry point for launching an IPython kernel.\n",
      "/fs/u00/simon/.conda/envs/ncanda-dev-simon/lib/python2.7/site-packages/ipykernel_launcher.py:1: DtypeWarning: Columns (2,4,36,42,153,201,209,214,217,220,223,225,379,382,385,386,394,436,437,438,439,491,584) have mixed types. Specify dtype option on import or set low_memory=False.\n",
      "  \"\"\"Entry point for launching an IPython kernel.\n",
      "/fs/u00/simon/.conda/envs/ncanda-dev-simon/lib/python2.7/site-packages/ipykernel_launcher.py:1: DtypeWarning: Columns (4,74,153,204,205,208,209,217,219,223,343,376,381,385,395,428,429,432,434,439,490,492,493,500,581,604,628,631,852,854) have mixed types. Specify dtype option on import or set low_memory=False.\n",
      "  \"\"\"Entry point for launching an IPython kernel.\n",
      "/fs/u00/simon/.conda/envs/ncanda-dev-simon/lib/python2.7/site-packages/ipykernel_launcher.py:1: DtypeWarning: Columns (4,38,42,74,95,162,201,203,207,210,211,214,216,217,220,224,264,345,375,377,378,382,385,386,496,575,576,581,583,603,604,606,627,630,646,647,649,851,854,855) have mixed types. Specify dtype option on import or set low_memory=False.\n",
      "  \"\"\"Entry point for launching an IPython kernel.\n",
      "/fs/u00/simon/.conda/envs/ncanda-dev-simon/lib/python2.7/site-packages/ipykernel_launcher.py:1: DtypeWarning: Columns (2,4,36,38,153,162,200,202,207,210,214,215,220,223,224,264,375,381,382,386,432,494,495,496,579,581,603,604,606,626,629,630,647,648,711,850,853,854) have mixed types. Specify dtype option on import or set low_memory=False.\n",
      "  \"\"\"Entry point for launching an IPython kernel.\n",
      "/fs/u00/simon/.conda/envs/ncanda-dev-simon/lib/python2.7/site-packages/ipykernel_launcher.py:1: DtypeWarning: Columns (2,36,38,205,206,214,215,219,220,343,376,377,381,395,575,585,627,649) have mixed types. Specify dtype option on import or set low_memory=False.\n",
      "  \"\"\"Entry point for launching an IPython kernel.\n"
     ]
    },
    {
     "name": "stdout",
     "output_type": "stream",
     "text": [
      "limesurvey_ssaga_part_4_youth\n",
      "Trying standard export\n",
      "limesurvey_ssaga_part_1_parent\n",
      "Trying standard export\n",
      "Trying chunked export, 1000 records at a time\n"
     ]
    },
    {
     "name": "stderr",
     "output_type": "stream",
     "text": [
      "/fs/u00/simon/.conda/envs/ncanda-dev-simon/lib/python2.7/site-packages/ipykernel_launcher.py:1: DtypeWarning: Columns (1,2,16,26,138,139,140,141,142,153,161,272) have mixed types. Specify dtype option on import or set low_memory=False.\n",
      "  \"\"\"Entry point for launching an IPython kernel.\n",
      "/fs/u00/simon/.conda/envs/ncanda-dev-simon/lib/python2.7/site-packages/ipykernel_launcher.py:1: DtypeWarning: Columns (2,26,35,228,557,559,1049,1490,1491,1492,1493,1494,1495,1496,1555,1557,1558,1559,1560,1561,1562,1563,1564,1565,1566,1567,1572,1701,1702,1703) have mixed types. Specify dtype option on import or set low_memory=False.\n",
      "  \"\"\"Entry point for launching an IPython kernel.\n",
      "/fs/u00/simon/.conda/envs/ncanda-dev-simon/lib/python2.7/site-packages/ipykernel_launcher.py:1: DtypeWarning: Columns (250,272,294,316,404,426,449,559,584) have mixed types. Specify dtype option on import or set low_memory=False.\n",
      "  \"\"\"Entry point for launching an IPython kernel.\n",
      "/fs/u00/simon/.conda/envs/ncanda-dev-simon/lib/python2.7/site-packages/ipykernel_launcher.py:1: DtypeWarning: Columns (1,2,4,35,71,74,160,161,228,294,360,382,386,449,515,537,541,559,561,563) have mixed types. Specify dtype option on import or set low_memory=False.\n",
      "  \"\"\"Entry point for launching an IPython kernel.\n",
      "/fs/u00/simon/.conda/envs/ncanda-dev-simon/lib/python2.7/site-packages/ipykernel_launcher.py:1: DtypeWarning: Columns (1,26,35,71,74,228,272,276,294,360,382,426,449,515,537,559) have mixed types. Specify dtype option on import or set low_memory=False.\n",
      "  \"\"\"Entry point for launching an IPython kernel.\n",
      "/fs/u00/simon/.conda/envs/ncanda-dev-simon/lib/python2.7/site-packages/ipykernel_launcher.py:1: DtypeWarning: Columns (1,16,26,161,250,294,360,361,386,390,404,449,471,515,516,585,1490,1555,1556,1558,1562,1563,1564,1566,1568,1570,1571,1572) have mixed types. Specify dtype option on import or set low_memory=False.\n",
      "  \"\"\"Entry point for launching an IPython kernel.\n",
      "/fs/u00/simon/.conda/envs/ncanda-dev-simon/lib/python2.7/site-packages/ipykernel_launcher.py:1: DtypeWarning: Columns (35,162,236,254,258,262,273,276,295,316,360,361,364,382,383,387,426,427,449,450,471,516,537,538,559) have mixed types. Specify dtype option on import or set low_memory=False.\n",
      "  \"\"\"Entry point for launching an IPython kernel.\n",
      "/fs/u00/simon/.conda/envs/ncanda-dev-simon/lib/python2.7/site-packages/ipykernel_launcher.py:1: DtypeWarning: Columns (1,16,26,161,404) have mixed types. Specify dtype option on import or set low_memory=False.\n",
      "  \"\"\"Entry point for launching an IPython kernel.\n",
      "/fs/u00/simon/.conda/envs/ncanda-dev-simon/lib/python2.7/site-packages/ipykernel_launcher.py:1: DtypeWarning: Columns (1,4,26,161,236,250,251,382,386,390,537,541,557) have mixed types. Specify dtype option on import or set low_memory=False.\n",
      "  \"\"\"Entry point for launching an IPython kernel.\n",
      "/fs/u00/simon/.conda/envs/ncanda-dev-simon/lib/python2.7/site-packages/ipykernel_launcher.py:1: DtypeWarning: Columns (1,2,16,228,258,302,412,457,557,559,584,1049) have mixed types. Specify dtype option on import or set low_memory=False.\n",
      "  \"\"\"Entry point for launching an IPython kernel.\n",
      "/fs/u00/simon/.conda/envs/ncanda-dev-simon/lib/python2.7/site-packages/ipykernel_launcher.py:1: DtypeWarning: Columns (16,35,161,382,557,559,561,584) have mixed types. Specify dtype option on import or set low_memory=False.\n",
      "  \"\"\"Entry point for launching an IPython kernel.\n",
      "/fs/u00/simon/.conda/envs/ncanda-dev-simon/lib/python2.7/site-packages/ipykernel_launcher.py:1: DtypeWarning: Columns (16,160,161,236,254,298,408,453,559,563,584) have mixed types. Specify dtype option on import or set low_memory=False.\n",
      "  \"\"\"Entry point for launching an IPython kernel.\n",
      "/fs/u00/simon/.conda/envs/ncanda-dev-simon/lib/python2.7/site-packages/ipykernel_launcher.py:1: DtypeWarning: Columns (2,4,16,26,162,228,364,584,1701,1702,1703) have mixed types. Specify dtype option on import or set low_memory=False.\n",
      "  \"\"\"Entry point for launching an IPython kernel.\n"
     ]
    },
    {
     "name": "stdout",
     "output_type": "stream",
     "text": [
      "limesurvey_ssaga_part_2_parent\n",
      "Trying standard export\n",
      "Trying chunked export, 1000 records at a time\n"
     ]
    },
    {
     "name": "stderr",
     "output_type": "stream",
     "text": [
      "/fs/u00/simon/.conda/envs/ncanda-dev-simon/lib/python2.7/site-packages/ipykernel_launcher.py:1: DtypeWarning: Columns (1,2,1420,1421,1424,1425,1426,1427,1431,1434,1435,1436,1492,1539,1540,1541,1542,1544,1546,1547,1548,1549,1550) have mixed types. Specify dtype option on import or set low_memory=False.\n",
      "  \"\"\"Entry point for launching an IPython kernel.\n",
      "/fs/u00/simon/.conda/envs/ncanda-dev-simon/lib/python2.7/site-packages/ipykernel_launcher.py:1: DtypeWarning: Columns (2,1423,1424,1425,1427,1428,1429,1430,1431,1433,1436,1437,1489) have mixed types. Specify dtype option on import or set low_memory=False.\n",
      "  \"\"\"Entry point for launching an IPython kernel.\n",
      "/fs/u00/simon/.conda/envs/ncanda-dev-simon/lib/python2.7/site-packages/ipykernel_launcher.py:1: DtypeWarning: Columns (1379,1380,1422,1424,1427,1428,1431,1434,1435,1445,1486) have mixed types. Specify dtype option on import or set low_memory=False.\n",
      "  \"\"\"Entry point for launching an IPython kernel.\n",
      "/fs/u00/simon/.conda/envs/ncanda-dev-simon/lib/python2.7/site-packages/ipykernel_launcher.py:1: DtypeWarning: Columns (1,2,4,1379,1380,1422,1423,1424,1428,1429,1430,1431,1434,1435,1445,1465,1489,1539,1540,1541,1542,1549,1550,1551,1552) have mixed types. Specify dtype option on import or set low_memory=False.\n",
      "  \"\"\"Entry point for launching an IPython kernel.\n",
      "/fs/u00/simon/.conda/envs/ncanda-dev-simon/lib/python2.7/site-packages/ipykernel_launcher.py:1: DtypeWarning: Columns (1,1379,1380,1417,1418,1419,1420,1422,1423,1424,1425,1426,1427,1429,1430,1431,1432,1433,1434,1435,1436,1437,1445) have mixed types. Specify dtype option on import or set low_memory=False.\n",
      "  \"\"\"Entry point for launching an IPython kernel.\n",
      "/fs/u00/simon/.conda/envs/ncanda-dev-simon/lib/python2.7/site-packages/ipykernel_launcher.py:1: DtypeWarning: Columns (1,1425,1427,1445) have mixed types. Specify dtype option on import or set low_memory=False.\n",
      "  \"\"\"Entry point for launching an IPython kernel.\n",
      "/fs/u00/simon/.conda/envs/ncanda-dev-simon/lib/python2.7/site-packages/ipykernel_launcher.py:1: DtypeWarning: Columns (1425,1436,1446,1447,1489,1539,1540,1544,1549,1550,1551,1552) have mixed types. Specify dtype option on import or set low_memory=False.\n",
      "  \"\"\"Entry point for launching an IPython kernel.\n",
      "/fs/u00/simon/.conda/envs/ncanda-dev-simon/lib/python2.7/site-packages/ipykernel_launcher.py:1: DtypeWarning: Columns (1,1425,1427,1430,1436,1437,1446,1489,1492) have mixed types. Specify dtype option on import or set low_memory=False.\n",
      "  \"\"\"Entry point for launching an IPython kernel.\n",
      "/fs/u00/simon/.conda/envs/ncanda-dev-simon/lib/python2.7/site-packages/ipykernel_launcher.py:1: DtypeWarning: Columns (1,4,1425,1427,1436,1437,1539,1540,1541,1544,1545,1546,1547,1548,1549,1550,1551) have mixed types. Specify dtype option on import or set low_memory=False.\n",
      "  \"\"\"Entry point for launching an IPython kernel.\n",
      "/fs/u00/simon/.conda/envs/ncanda-dev-simon/lib/python2.7/site-packages/ipykernel_launcher.py:1: DtypeWarning: Columns (1,2,1423,1424,1427,1432,1434,1435,1436,1437,1492,1539,1540,1541,1544,1546,1549,1550,1551,1579) have mixed types. Specify dtype option on import or set low_memory=False.\n",
      "  \"\"\"Entry point for launching an IPython kernel.\n",
      "/fs/u00/simon/.conda/envs/ncanda-dev-simon/lib/python2.7/site-packages/ipykernel_launcher.py:1: DtypeWarning: Columns (2,1425,1428,1433) have mixed types. Specify dtype option on import or set low_memory=False.\n",
      "  \"\"\"Entry point for launching an IPython kernel.\n",
      "/fs/u00/simon/.conda/envs/ncanda-dev-simon/lib/python2.7/site-packages/ipykernel_launcher.py:1: DtypeWarning: Columns (1425,1428,1430,1435,1446,1489,1539,1541,1544,1545,1547,1548,1550,1551,1552) have mixed types. Specify dtype option on import or set low_memory=False.\n",
      "  \"\"\"Entry point for launching an IPython kernel.\n",
      "/fs/u00/simon/.conda/envs/ncanda-dev-simon/lib/python2.7/site-packages/ipykernel_launcher.py:1: DtypeWarning: Columns (2,4,1418,1420,1423,1424,1427,1428,1430,1431,1434,1435,1436,1437,1489) have mixed types. Specify dtype option on import or set low_memory=False.\n",
      "  \"\"\"Entry point for launching an IPython kernel.\n"
     ]
    },
    {
     "name": "stdout",
     "output_type": "stream",
     "text": [
      "limesurvey_ssaga_part_3_parent\n",
      "Trying standard export\n",
      "Trying chunked export, 1000 records at a time\n"
     ]
    },
    {
     "name": "stderr",
     "output_type": "stream",
     "text": [
      "/fs/u00/simon/.conda/envs/ncanda-dev-simon/lib/python2.7/site-packages/ipykernel_launcher.py:1: DtypeWarning: Columns (1,2,579,581,585,586,592,602,646,648,649) have mixed types. Specify dtype option on import or set low_memory=False.\n",
      "  \"\"\"Entry point for launching an IPython kernel.\n",
      "/fs/u00/simon/.conda/envs/ncanda-dev-simon/lib/python2.7/site-packages/ipykernel_launcher.py:1: DtypeWarning: Columns (2,208,375,428,429,430,431,432,433,436,437,489,490,492,493,496,498,500,567,580,585,586,588,589,592,603,604,605,606,625,626,627,628,629,630,631,645,646,647,648,649) have mixed types. Specify dtype option on import or set low_memory=False.\n",
      "  \"\"\"Entry point for launching an IPython kernel.\n",
      "/fs/u00/simon/.conda/envs/ncanda-dev-simon/lib/python2.7/site-packages/ipykernel_launcher.py:1: DtypeWarning: Columns (567,579,585,589,602,603,604,605,606,625,626,629,630,645,646,647) have mixed types. Specify dtype option on import or set low_memory=False.\n",
      "  \"\"\"Entry point for launching an IPython kernel.\n",
      "/fs/u00/simon/.conda/envs/ncanda-dev-simon/lib/python2.7/site-packages/ipykernel_launcher.py:1: DtypeWarning: Columns (1,2,4,38,577,579,586,592,602,604,605,606,625,628,629,645,646,647,648,649) have mixed types. Specify dtype option on import or set low_memory=False.\n",
      "  \"\"\"Entry point for launching an IPython kernel.\n",
      "/fs/u00/simon/.conda/envs/ncanda-dev-simon/lib/python2.7/site-packages/ipykernel_launcher.py:1: DtypeWarning: Columns (1,494,567,580,581,582,586,589,592,602,606,625,626,628,629,648) have mixed types. Specify dtype option on import or set low_memory=False.\n",
      "  \"\"\"Entry point for launching an IPython kernel.\n",
      "/fs/u00/simon/.conda/envs/ncanda-dev-simon/lib/python2.7/site-packages/ipykernel_launcher.py:1: DtypeWarning: Columns (1,38,74,208,209,212,213,217,276,375,379,490,494,579,580,584,587,602,604,625,646,647) have mixed types. Specify dtype option on import or set low_memory=False.\n",
      "  \"\"\"Entry point for launching an IPython kernel.\n",
      "/fs/u00/simon/.conda/envs/ncanda-dev-simon/lib/python2.7/site-packages/ipykernel_launcher.py:1: DtypeWarning: Columns (36,575,579,584,587,603,604,606,625,626,628,629,631,646,649) have mixed types. Specify dtype option on import or set low_memory=False.\n",
      "  \"\"\"Entry point for launching an IPython kernel.\n",
      "/fs/u00/simon/.conda/envs/ncanda-dev-simon/lib/python2.7/site-packages/ipykernel_launcher.py:1: DtypeWarning: Columns (1,74,162,209,224,386,434,435,437,489,493,494,495,496,497,580,584,586,602,604,606,629,630,646,648,649,845,850,851) have mixed types. Specify dtype option on import or set low_memory=False.\n",
      "  \"\"\"Entry point for launching an IPython kernel.\n",
      "/fs/u00/simon/.conda/envs/ncanda-dev-simon/lib/python2.7/site-packages/ipykernel_launcher.py:1: DtypeWarning: Columns (1,2,4,36,38,40,577,579,580,586,606,626,628,629,630) have mixed types. Specify dtype option on import or set low_memory=False.\n",
      "  \"\"\"Entry point for launching an IPython kernel.\n",
      "/fs/u00/simon/.conda/envs/ncanda-dev-simon/lib/python2.7/site-packages/ipykernel_launcher.py:1: DtypeWarning: Columns (1,2,36,153,208,213,215,223,375,385,430,431,489,490,494,495,500,567,577,579,584,586,588,589,592,602,603,604,606,625,626,628,629,630,631,645,646,647,649,711,844,845,854) have mixed types. Specify dtype option on import or set low_memory=False.\n",
      "  \"\"\"Entry point for launching an IPython kernel.\n",
      "/fs/u00/simon/.conda/envs/ncanda-dev-simon/lib/python2.7/site-packages/ipykernel_launcher.py:1: DtypeWarning: Columns (2,577,581,606,628,648,649) have mixed types. Specify dtype option on import or set low_memory=False.\n",
      "  \"\"\"Entry point for launching an IPython kernel.\n",
      "/fs/u00/simon/.conda/envs/ncanda-dev-simon/lib/python2.7/site-packages/ipykernel_launcher.py:1: DtypeWarning: Columns (36,38,567,577,584,585,587,589,602,604,605,625,646,647) have mixed types. Specify dtype option on import or set low_memory=False.\n",
      "  \"\"\"Entry point for launching an IPython kernel.\n",
      "/fs/u00/simon/.conda/envs/ncanda-dev-simon/lib/python2.7/site-packages/ipykernel_launcher.py:1: DtypeWarning: Columns (2,4,36,38,40,42,535,567,570,571,572,573,574,575,576,577,579,580,581,583,584,585,586,587,588,589,592,602,603,604,605,606,625,626,628,629,630,631,645,646,647,648,649) have mixed types. Specify dtype option on import or set low_memory=False.\n",
      "  \"\"\"Entry point for launching an IPython kernel.\n"
     ]
    },
    {
     "name": "stdout",
     "output_type": "stream",
     "text": [
      "limesurvey_ssaga_part_4_parent\n",
      "Trying standard export\n",
      "participant_last_use_summary\n",
      "Trying standard export\n"
     ]
    },
    {
     "name": "stderr",
     "output_type": "stream",
     "text": [
      "/fs/u00/simon/.conda/envs/ncanda-dev-simon/lib/python2.7/site-packages/ipykernel_launcher.py:1: DtypeWarning: Columns (29,32,46,47,54,60,67) have mixed types. Specify dtype option on import or set low_memory=False.\n",
      "  \"\"\"Entry point for launching an IPython kernel.\n"
     ]
    },
    {
     "name": "stdout",
     "output_type": "stream",
     "text": [
      "recovery_questionnaire\n",
      "Trying standard export\n"
     ]
    },
    {
     "name": "stderr",
     "output_type": "stream",
     "text": [
      "/fs/u00/simon/.conda/envs/ncanda-dev-simon/lib/python2.7/site-packages/ipykernel_launcher.py:1: DtypeWarning: Columns (2) have mixed types. Specify dtype option on import or set low_memory=False.\n",
      "  \"\"\"Entry point for launching an IPython kernel.\n"
     ]
    }
   ],
   "source": [
    "all_forms = {form_name: load_form(api, form_name) for form_name in forms}"
   ]
  },
  {
   "cell_type": "markdown",
   "metadata": {},
   "source": [
    "## 2. Checking emptiness"
   ]
  },
  {
   "cell_type": "code",
   "execution_count": 8,
   "metadata": {},
   "outputs": [],
   "source": [
    "# Apply to DF to get all empty records\n",
    "def is_empty_record(row, form_name, drop_columns=None):\n",
    "    # 1. check complete\n",
    "    complete_field = form_name + '_complete'\n",
    "    is_incomplete = row[complete_field] == 0  # TODO: maybe complete_field not in [1, 2] to catch NaNs?\n",
    "    \n",
    "    # 2. count up NaNs\n",
    "    if drop_columns:\n",
    "        drop_columns.append(complete_field)\n",
    "    else:\n",
    "        drop_columns = [complete_field]\n",
    "    non_nan_count = row.drop(drop_columns).notnull().sum()\n",
    "    \n",
    "    return pd.Series({'incomplete': is_incomplete, 'non_nan_count': non_nan_count})"
   ]
  },
  {
   "cell_type": "code",
   "execution_count": 9,
   "metadata": {},
   "outputs": [],
   "source": [
    "all_forms_flagged = {form_name: df.apply(lambda row: is_empty_record(row, form_name), axis=1) \n",
    "                     for form_name, df \n",
    "                     in all_forms.items()}"
   ]
  },
  {
   "cell_type": "code",
   "execution_count": 10,
   "metadata": {},
   "outputs": [],
   "source": [
    "not_uploaded_by_form = {form_name: df.query('incomplete and non_nan_count == 0').index.tolist()\n",
    "                        for form_name, df in all_forms_flagged.items()}"
   ]
  },
  {
   "cell_type": "code",
   "execution_count": 11,
   "metadata": {},
   "outputs": [
    {
     "data": {
      "text/plain": [
       "{'delayed_discounting_100': 9467,\n",
       " 'delayed_discounting_1000': 9515,\n",
       " 'limesurvey_ssaga_part_1_parent': 11704,\n",
       " 'limesurvey_ssaga_part_1_youth': 10198,\n",
       " 'limesurvey_ssaga_part_2_parent': 11791,\n",
       " 'limesurvey_ssaga_part_2_youth': 10583,\n",
       " 'limesurvey_ssaga_part_3_parent': 11795,\n",
       " 'limesurvey_ssaga_part_3_youth': 10592,\n",
       " 'limesurvey_ssaga_part_4_parent': 11802,\n",
       " 'limesurvey_ssaga_part_4_youth': 10595,\n",
       " 'midyear_youth_interview': 9847,\n",
       " 'mri_report': 9587,\n",
       " 'paced_auditory_serial_addition_test_pasat': 9491,\n",
       " 'parent_report': 10264,\n",
       " 'participant_last_use_summary': 11199,\n",
       " 'recovery_questionnaire': 12734,\n",
       " 'sleep_study_evening_questionnaire': 11833,\n",
       " 'sleep_study_morning_questionnaire': 11832,\n",
       " 'sleep_study_presleep_questionnaire': 11891,\n",
       " 'ssaga_parent': 12162,\n",
       " 'ssaga_youth': 11935,\n",
       " 'stroop': 9651,\n",
       " 'visit_information': 1,\n",
       " 'youth_report_1': 9045,\n",
       " 'youth_report_1b': 9418,\n",
       " 'youth_report_2': 9462}"
      ]
     },
     "execution_count": 11,
     "metadata": {},
     "output_type": "execute_result"
    }
   ],
   "source": [
    "{form: len(x) for form, x in not_uploaded_by_form.items()}"
   ]
  },
  {
   "cell_type": "code",
   "execution_count": 12,
   "metadata": {},
   "outputs": [],
   "source": [
    "incomplete_with_data = {form_name: df.query('incomplete and non_nan_count > 0')\n",
    "                        for form_name, df in all_forms_flagged.items()}"
   ]
  },
  {
   "cell_type": "code",
   "execution_count": 13,
   "metadata": {},
   "outputs": [
    {
     "data": {
      "text/plain": [
       "{'delayed_discounting_100': 2,\n",
       " 'delayed_discounting_1000': 2,\n",
       " 'limesurvey_ssaga_part_1_parent': 0,\n",
       " 'limesurvey_ssaga_part_1_youth': 1,\n",
       " 'limesurvey_ssaga_part_2_parent': 0,\n",
       " 'limesurvey_ssaga_part_2_youth': 1,\n",
       " 'limesurvey_ssaga_part_3_parent': 0,\n",
       " 'limesurvey_ssaga_part_3_youth': 1,\n",
       " 'limesurvey_ssaga_part_4_parent': 0,\n",
       " 'limesurvey_ssaga_part_4_youth': 1,\n",
       " 'midyear_youth_interview': 1,\n",
       " 'mri_report': 1,\n",
       " 'paced_auditory_serial_addition_test_pasat': 1,\n",
       " 'parent_report': 46,\n",
       " 'participant_last_use_summary': 3,\n",
       " 'recovery_questionnaire': 0,\n",
       " 'sleep_study_evening_questionnaire': 0,\n",
       " 'sleep_study_morning_questionnaire': 0,\n",
       " 'sleep_study_presleep_questionnaire': 1,\n",
       " 'ssaga_parent': 1,\n",
       " 'ssaga_youth': 4,\n",
       " 'stroop': 3,\n",
       " 'visit_information': 0,\n",
       " 'youth_report_1': 251,\n",
       " 'youth_report_1b': 9,\n",
       " 'youth_report_2': 5}"
      ]
     },
     "execution_count": 13,
     "metadata": {},
     "output_type": "execute_result"
    }
   ],
   "source": [
    "{form: len(x) for form, x in incomplete_with_data.items()}"
   ]
  },
  {
   "cell_type": "code",
   "execution_count": 14,
   "metadata": {},
   "outputs": [],
   "source": [
    "complete_without_data = {form_name: df.query('not incomplete and non_nan_count == 0').index.tolist()\n",
    "                         for form_name, df in all_forms_flagged.items()}"
   ]
  },
  {
   "cell_type": "code",
   "execution_count": 15,
   "metadata": {
    "scrolled": false
   },
   "outputs": [
    {
     "data": {
      "text/plain": [
       "{'delayed_discounting_100': 1,\n",
       " 'delayed_discounting_1000': 2,\n",
       " 'limesurvey_ssaga_part_1_parent': 0,\n",
       " 'limesurvey_ssaga_part_1_youth': 0,\n",
       " 'limesurvey_ssaga_part_2_parent': 0,\n",
       " 'limesurvey_ssaga_part_2_youth': 0,\n",
       " 'limesurvey_ssaga_part_3_parent': 0,\n",
       " 'limesurvey_ssaga_part_3_youth': 0,\n",
       " 'limesurvey_ssaga_part_4_parent': 0,\n",
       " 'limesurvey_ssaga_part_4_youth': 0,\n",
       " 'midyear_youth_interview': 0,\n",
       " 'mri_report': 0,\n",
       " 'paced_auditory_serial_addition_test_pasat': 0,\n",
       " 'parent_report': 0,\n",
       " 'participant_last_use_summary': 0,\n",
       " 'recovery_questionnaire': 0,\n",
       " 'sleep_study_evening_questionnaire': 0,\n",
       " 'sleep_study_morning_questionnaire': 0,\n",
       " 'sleep_study_presleep_questionnaire': 0,\n",
       " 'ssaga_parent': 0,\n",
       " 'ssaga_youth': 0,\n",
       " 'stroop': 0,\n",
       " 'visit_information': 12845,\n",
       " 'youth_report_1': 0,\n",
       " 'youth_report_1b': 0,\n",
       " 'youth_report_2': 0}"
      ]
     },
     "execution_count": 15,
     "metadata": {},
     "output_type": "execute_result"
    }
   ],
   "source": [
    "{form: len(x) for form, x in complete_without_data.items()}"
   ]
  },
  {
   "cell_type": "markdown",
   "metadata": {},
   "source": [
    "# Cross-checking with `harvester`-generated CSVs"
   ]
  },
  {
   "cell_type": "code",
   "execution_count": 16,
   "metadata": {},
   "outputs": [],
   "source": [
    "all_forms = {\n",
    "    # Forms for Arm 1: Standard Protocol  \n",
    "    'dd100': 'delayed_discounting_100',\n",
    "    'dd1000': 'delayed_discounting_1000',\n",
    "\n",
    "    'pasat': 'paced_auditory_serial_addition_test_pasat',\n",
    "    'stroop': 'stroop',\n",
    "    \n",
    "    'ssaga_youth': 'ssaga_youth',\n",
    "    'ssaga_parent': 'ssaga_parent',\n",
    "    'youthreport1': 'youth_report_1',\n",
    "    'youthreport1b': 'youth_report_1b',\n",
    "    'youthreport2': 'youth_report_2',\n",
    "    'parentreport': 'parent_report',\n",
    "    \n",
    "    'mrireport': 'mri_report',\n",
    "    'plus': 'participant_last_use_summary',\n",
    "    \n",
    "    'myy': 'midyear_youth_interview',\n",
    "    \n",
    "    'lssaga1_youth': 'limesurvey_ssaga_part_1_youth',\n",
    "    'lssaga2_youth': 'limesurvey_ssaga_part_2_youth',\n",
    "    'lssaga3_youth': 'limesurvey_ssaga_part_3_youth',\n",
    "    'lssaga4_youth': 'limesurvey_ssaga_part_4_youth',\n",
    "    \n",
    "    'lssaga1_parent': 'limesurvey_ssaga_part_1_parent',\n",
    "    'lssaga2_parent': 'limesurvey_ssaga_part_2_parent',\n",
    "    'lssaga3_parent': 'limesurvey_ssaga_part_3_parent',\n",
    "    'lssaga4_parent': 'limesurvey_ssaga_part_4_parent',\n",
    "\n",
    "    # Forms for Arm 3: Sleep Studies\n",
    "    'sleepeve': 'sleep_study_evening_questionnaire',\n",
    "    'sleeppre': 'sleep_study_presleep_questionnaire',\n",
    "    'sleepmor': 'sleep_study_morning_questionnaire',\n",
    "\n",
    "    # Forms for Recovery project\n",
    "    'recq': 'recovery_questionnaire',\n",
    "    \n",
    "    # Forms for UCSD\n",
    "    'parent': 'ssaga_parent',\n",
    "    'youth': 'ssaga_youth',\n",
    "    'deldisc': 'delayed_discounting'\n",
    "}"
   ]
  },
  {
   "cell_type": "code",
   "execution_count": 17,
   "metadata": {},
   "outputs": [],
   "source": [
    "def get_ID_from_filename(fname):\n",
    "    # strip file extension\n",
    "    # strip -100[0]\n",
    "    import re\n",
    "    return re.sub(r'-?(1000?|fields)?\\.csv$', '', fname).strip()\n",
    "\n",
    "def get_record_IDs_for_form(form, files, folder_path = None):\n",
    "    if form == \"delayed_discounting\":\n",
    "        # Cannot approach straightforwardly because filename violates convention \n",
    "        # - need to process $100 and $1000 as separate forms, even though they're in the same folder\n",
    "        dd100_records = [f for f in files if f.endswith(\"-100.csv\")]\n",
    "        dd1000_records = [f for f in files if f.endswith(\"-1000.csv\")]\n",
    "        dd100 = get_record_IDs_for_form(form + '_100', dd100_records, folder_path)\n",
    "        dd1000 = get_record_IDs_for_form(form + '_1000', dd1000_records, folder_path)\n",
    "        return dict(dd100.items() + dd1000.items())\n",
    "    else:\n",
    "        records = [get_ID_from_filename(f) for f in files]\n",
    "        if folder_path is not None:\n",
    "            files = [folder_path + '/' + f for f in files]\n",
    "        return {form: dict(zip(files, records))}"
   ]
  },
  {
   "cell_type": "code",
   "execution_count": 18,
   "metadata": {},
   "outputs": [
    {
     "name": "stdout",
     "output_type": "stream",
     "text": [
      "passing /fs/storage/laptops/imported\n",
      "passing /fs/storage/laptops/imported/ucsd\n",
      "passing /fs/storage/laptops/imported/ucsd/ssaga\n",
      "entering /fs/storage/laptops/imported/ucsd/ssaga/parent\n",
      "entering /fs/storage/laptops/imported/ucsd/ssaga/youth\n",
      "entering /fs/storage/laptops/imported/ucsd/pasat\n",
      "entering /fs/storage/laptops/imported/ucsd/stroop\n",
      "entering /fs/storage/laptops/imported/ucsd/deldisc\n",
      "passing /fs/storage/laptops/imported/ucsd/limesurvey\n",
      "entering /fs/storage/laptops/imported/ucsd/limesurvey/lssaga1_parent\n",
      "entering /fs/storage/laptops/imported/ucsd/limesurvey/lssaga3_parent\n",
      "entering /fs/storage/laptops/imported/ucsd/limesurvey/recq\n",
      "entering /fs/storage/laptops/imported/ucsd/limesurvey/lssaga4_youth\n",
      "entering /fs/storage/laptops/imported/ucsd/limesurvey/youthreport1\n",
      "entering /fs/storage/laptops/imported/ucsd/limesurvey/youthreport1b\n",
      "entering /fs/storage/laptops/imported/ucsd/limesurvey/plus\n",
      "entering /fs/storage/laptops/imported/ucsd/limesurvey/lssaga3_youth\n",
      "entering /fs/storage/laptops/imported/ucsd/limesurvey/lssaga2_parent\n",
      "entering /fs/storage/laptops/imported/ucsd/limesurvey/lssaga4_parent\n",
      "entering /fs/storage/laptops/imported/ucsd/limesurvey/youthreport2\n",
      "entering /fs/storage/laptops/imported/ucsd/limesurvey/parentreport\n",
      "entering /fs/storage/laptops/imported/ucsd/limesurvey/mrireport\n",
      "entering /fs/storage/laptops/imported/ucsd/limesurvey/lssaga2_youth\n",
      "entering /fs/storage/laptops/imported/ucsd/limesurvey/myy\n",
      "entering /fs/storage/laptops/imported/ucsd/limesurvey/lssaga1_youth\n",
      "passing /fs/storage/laptops/imported/ucsd/lime\n",
      "entering /fs/storage/laptops/imported/ucsd/lime/youthreport1b\n",
      "passing /fs/storage/laptops/imported/upmc\n",
      "passing /fs/storage/laptops/imported/upmc/ssaga\n",
      "entering /fs/storage/laptops/imported/upmc/ssaga/parent\n",
      "entering /fs/storage/laptops/imported/upmc/ssaga/youth\n",
      "entering /fs/storage/laptops/imported/upmc/pasat\n",
      "entering /fs/storage/laptops/imported/upmc/stroop\n",
      "entering /fs/storage/laptops/imported/upmc/deldisc\n",
      "passing /fs/storage/laptops/imported/upmc/limesurvey\n",
      "entering /fs/storage/laptops/imported/upmc/limesurvey/lssaga1_parent\n",
      "entering /fs/storage/laptops/imported/upmc/limesurvey/lssaga3_parent\n",
      "entering /fs/storage/laptops/imported/upmc/limesurvey/recq\n",
      "entering /fs/storage/laptops/imported/upmc/limesurvey/lssaga4_youth\n",
      "entering /fs/storage/laptops/imported/upmc/limesurvey/youthreport1\n",
      "entering /fs/storage/laptops/imported/upmc/limesurvey/youthreport1b\n",
      "entering /fs/storage/laptops/imported/upmc/limesurvey/plus\n",
      "entering /fs/storage/laptops/imported/upmc/limesurvey/lssaga3_youth\n",
      "entering /fs/storage/laptops/imported/upmc/limesurvey/lssaga2_parent\n",
      "entering /fs/storage/laptops/imported/upmc/limesurvey/lssaga4_parent\n",
      "entering /fs/storage/laptops/imported/upmc/limesurvey/sleepeve\n",
      "entering /fs/storage/laptops/imported/upmc/limesurvey/youthreport2\n",
      "entering /fs/storage/laptops/imported/upmc/limesurvey/parentreport\n",
      "entering /fs/storage/laptops/imported/upmc/limesurvey/mrireport\n",
      "entering /fs/storage/laptops/imported/upmc/limesurvey/lssaga2_youth\n",
      "entering /fs/storage/laptops/imported/upmc/limesurvey/myy\n",
      "entering /fs/storage/laptops/imported/upmc/limesurvey/sleeppre\n",
      "entering /fs/storage/laptops/imported/upmc/limesurvey/lssaga1_youth\n",
      "entering /fs/storage/laptops/imported/upmc/limesurvey/sleepmor\n",
      "passing /fs/storage/laptops/imported/duke\n",
      "passing /fs/storage/laptops/imported/duke/ssaga\n",
      "entering /fs/storage/laptops/imported/duke/ssaga/parent\n",
      "entering /fs/storage/laptops/imported/duke/ssaga/youth\n",
      "entering /fs/storage/laptops/imported/duke/pasat\n",
      "entering /fs/storage/laptops/imported/duke/stroop\n",
      "entering /fs/storage/laptops/imported/duke/deldisc\n",
      "passing /fs/storage/laptops/imported/duke/limesurvey\n",
      "entering /fs/storage/laptops/imported/duke/limesurvey/lssaga1_parent\n",
      "entering /fs/storage/laptops/imported/duke/limesurvey/lssaga3_parent\n",
      "entering /fs/storage/laptops/imported/duke/limesurvey/recq\n",
      "entering /fs/storage/laptops/imported/duke/limesurvey/lssaga4_youth\n",
      "entering /fs/storage/laptops/imported/duke/limesurvey/youthreport1\n",
      "entering /fs/storage/laptops/imported/duke/limesurvey/youthreport1b\n",
      "entering /fs/storage/laptops/imported/duke/limesurvey/plus\n",
      "entering /fs/storage/laptops/imported/duke/limesurvey/lssaga3_youth\n",
      "entering /fs/storage/laptops/imported/duke/limesurvey/lssaga2_parent\n",
      "entering /fs/storage/laptops/imported/duke/limesurvey/lssaga4_parent\n",
      "entering /fs/storage/laptops/imported/duke/limesurvey/youthreport2\n",
      "entering /fs/storage/laptops/imported/duke/limesurvey/parentreport\n",
      "entering /fs/storage/laptops/imported/duke/limesurvey/mrireport\n",
      "entering /fs/storage/laptops/imported/duke/limesurvey/lssaga2_youth\n",
      "entering /fs/storage/laptops/imported/duke/limesurvey/myy\n",
      "entering /fs/storage/laptops/imported/duke/limesurvey/lssaga1_youth\n",
      "passing /fs/storage/laptops/imported/sri\n",
      "passing /fs/storage/laptops/imported/sri/ssaga\n",
      "entering /fs/storage/laptops/imported/sri/ssaga/parent\n",
      "entering /fs/storage/laptops/imported/sri/ssaga/youth\n",
      "entering /fs/storage/laptops/imported/sri/pasat\n",
      "entering /fs/storage/laptops/imported/sri/stroop\n",
      "entering /fs/storage/laptops/imported/sri/deldisc\n",
      "passing /fs/storage/laptops/imported/sri/limesurvey\n",
      "entering /fs/storage/laptops/imported/sri/limesurvey/lssaga1_parent\n",
      "entering /fs/storage/laptops/imported/sri/limesurvey/lssaga3_parent\n",
      "entering /fs/storage/laptops/imported/sri/limesurvey/recq\n",
      "entering /fs/storage/laptops/imported/sri/limesurvey/lssaga4_youth\n",
      "entering /fs/storage/laptops/imported/sri/limesurvey/youthreport1\n",
      "entering /fs/storage/laptops/imported/sri/limesurvey/youthreport1b\n",
      "entering /fs/storage/laptops/imported/sri/limesurvey/plus\n",
      "entering /fs/storage/laptops/imported/sri/limesurvey/lssaga3_youth\n",
      "entering /fs/storage/laptops/imported/sri/limesurvey/lssaga2_parent\n",
      "entering /fs/storage/laptops/imported/sri/limesurvey/lssaga4_parent\n",
      "entering /fs/storage/laptops/imported/sri/limesurvey/sleepeve\n",
      "entering /fs/storage/laptops/imported/sri/limesurvey/youthreport2\n",
      "entering /fs/storage/laptops/imported/sri/limesurvey/parentreport\n",
      "entering /fs/storage/laptops/imported/sri/limesurvey/mrireport\n",
      "entering /fs/storage/laptops/imported/sri/limesurvey/lssaga2_youth\n",
      "entering /fs/storage/laptops/imported/sri/limesurvey/myy\n",
      "entering /fs/storage/laptops/imported/sri/limesurvey/sleeppre\n",
      "entering /fs/storage/laptops/imported/sri/limesurvey/lssaga1_youth\n",
      "entering /fs/storage/laptops/imported/sri/limesurvey/sleepmor\n",
      "passing /fs/storage/laptops/imported/ohsu\n",
      "passing /fs/storage/laptops/imported/ohsu/ssaga\n",
      "entering /fs/storage/laptops/imported/ohsu/ssaga/parent\n",
      "entering /fs/storage/laptops/imported/ohsu/ssaga/youth\n",
      "entering /fs/storage/laptops/imported/ohsu/pasat\n",
      "entering /fs/storage/laptops/imported/ohsu/stroop\n",
      "entering /fs/storage/laptops/imported/ohsu/deldisc\n",
      "passing /fs/storage/laptops/imported/ohsu/limesurvey\n",
      "entering /fs/storage/laptops/imported/ohsu/limesurvey/lssaga1_parent\n",
      "entering /fs/storage/laptops/imported/ohsu/limesurvey/lssaga3_parent\n",
      "entering /fs/storage/laptops/imported/ohsu/limesurvey/recq\n",
      "entering /fs/storage/laptops/imported/ohsu/limesurvey/lssaga4_youth\n",
      "entering /fs/storage/laptops/imported/ohsu/limesurvey/youthreport1\n",
      "entering /fs/storage/laptops/imported/ohsu/limesurvey/youthreport1b\n",
      "entering /fs/storage/laptops/imported/ohsu/limesurvey/plus\n",
      "entering /fs/storage/laptops/imported/ohsu/limesurvey/lssaga3_youth\n",
      "entering /fs/storage/laptops/imported/ohsu/limesurvey/lssaga2_parent\n",
      "entering /fs/storage/laptops/imported/ohsu/limesurvey/lssaga4_parent\n",
      "entering /fs/storage/laptops/imported/ohsu/limesurvey/youthreport2\n",
      "entering /fs/storage/laptops/imported/ohsu/limesurvey/parentreport\n",
      "entering /fs/storage/laptops/imported/ohsu/limesurvey/mrireport\n",
      "entering /fs/storage/laptops/imported/ohsu/limesurvey/lssaga2_youth\n",
      "entering /fs/storage/laptops/imported/ohsu/limesurvey/myy\n",
      "entering /fs/storage/laptops/imported/ohsu/limesurvey/lssaga1_youth\n"
     ]
    }
   ],
   "source": [
    "# Extract records from all the files and keep file->record_id associations\n",
    "# TODO: Make a data frame on the first pass\n",
    "records_by_form = {}\n",
    "for root, subdirs, files in os.walk('/fs/storage/laptops/imported'):\n",
    "    csv_files = [f for f in files if (\".csv\" in f and \"-fields\" not in f)]\n",
    "    root_parts = root.split('/')\n",
    "    current_folder = root_parts[-1]\n",
    "    if subdirs or not csv_files:\n",
    "        print \"passing %s\" % root\n",
    "        continue\n",
    "    else:\n",
    "        print \"entering %s\" % root\n",
    "        \n",
    "        try:\n",
    "            form = all_forms[current_folder]\n",
    "        except KeyError as e:\n",
    "            print \"Couldn't find %s in `all_forms`. Skipping.\" % current_folder\n",
    "            continue\n",
    "    # Create a dict of files -> record IDs\n",
    "    all_records = get_record_IDs_for_form(form, csv_files, folder_path=root)\n",
    "    for record_form, file_records in all_records.iteritems():\n",
    "        if record_form in records_by_form:\n",
    "            records_by_form[record_form].update(file_records)\n",
    "        else:\n",
    "            records_by_form[record_form] = file_records\n",
    "    #record_ids = [get_ID_from_filename(f) for f in csv_files]"
   ]
  },
  {
   "cell_type": "markdown",
   "metadata": {},
   "source": [
    "2. Within each form, iterate through the files + record_IDs and check if the record ID is non-empty in the previously collected dataframe: "
   ]
  },
  {
   "cell_type": "code",
   "execution_count": 20,
   "metadata": {},
   "outputs": [],
   "source": [
    "# Remake the record_by_form into a data frame\n",
    "file_df = pd.DataFrame()\n",
    "for form, file_record_ids in records_by_form.iteritems():\n",
    "    form_df = pd.DataFrame.from_dict(file_record_ids, orient='index')\n",
    "    form_df.columns = ['record_id']\n",
    "    form_df['form'] = form\n",
    "    file_df = pd.concat([file_df, form_df])"
   ]
  },
  {
   "cell_type": "code",
   "execution_count": 23,
   "metadata": {},
   "outputs": [],
   "source": [
    "def get_flag_info(row):\n",
    "    try:\n",
    "        return all_forms_flagged[row['form']].loc[row['record_id']]\n",
    "    except KeyError:\n",
    "        return pd.Series({'form': row['form'], 'incomplete': np.nan, 'non_nan_count': 0})"
   ]
  },
  {
   "cell_type": "code",
   "execution_count": 24,
   "metadata": {},
   "outputs": [],
   "source": [
    "#file_df.apply(lambda row: all_forms_flagged[row['form']].loc[row['record_id']], axis=1)\n",
    "file_counts = file_df.apply(get_flag_info, axis=1)"
   ]
  },
  {
   "cell_type": "code",
   "execution_count": 26,
   "metadata": {},
   "outputs": [],
   "source": [
    "not_uploaded_files = file_counts.query('non_nan_count <= 0').index.tolist()"
   ]
  },
  {
   "cell_type": "code",
   "execution_count": 27,
   "metadata": {},
   "outputs": [
    {
     "data": {
      "text/plain": [
       "185"
      ]
     },
     "execution_count": 27,
     "metadata": {},
     "output_type": "execute_result"
    }
   ],
   "source": [
    "print len(not_uploaded_files)"
   ]
  },
  {
   "cell_type": "code",
   "execution_count": 28,
   "metadata": {},
   "outputs": [],
   "source": [
    "with open('not_in_import.txt', 'wb') as f:\n",
    "    f.write(\"\\n\".join(not_uploaded_files))"
   ]
  }
 ],
 "metadata": {
  "kernelspec": {
   "display_name": "Python 2",
   "language": "python",
   "name": "python2"
  },
  "language_info": {
   "codemirror_mode": {
    "name": "ipython",
    "version": 2
   },
   "file_extension": ".py",
   "mimetype": "text/x-python",
   "name": "python",
   "nbconvert_exporter": "python",
   "pygments_lexer": "ipython2",
   "version": "2.7.12"
  }
 },
 "nbformat": 4,
 "nbformat_minor": 2
}
