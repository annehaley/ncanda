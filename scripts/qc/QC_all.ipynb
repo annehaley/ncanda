{
 "cells": [
  {
   "cell_type": "markdown",
   "metadata": {},
   "source": [
    "To run this script, you will need the following:\n",
    "\n",
    "1. An Anaconda / Miniconda distribution allowing you to create a virtual environment.\n",
    "2. Install the virtual environment specified in `environment.yml` (you can create it with `conda env create -f environment.yml`, or -- if you have access to the SRI cluster -- you can use the existing `ncanda-1.0.0` environment there.)\n",
    "3. `source activate ncanda-1.0.0`\n",
    "\n",
    "Finally, run `jupyter notebook --ip=127.0.0.1 QC_all.ipynb` (which will open the notebook) and then run all the notebook's cells, or run `python QC_all.py` (which will only run the code and print to `stdout`).\n"
   ]
  },
  {
   "cell_type": "code",
   "execution_count": null,
   "metadata": {
    "collapsed": true
   },
   "outputs": [],
   "source": [
    "import pandas as pd\n",
    "import redcap as rc\n",
    "import re\n",
    "import os\n",
    "from operator import itemgetter  # for extracting multiple keys from a dict"
   ]
  },
  {
   "cell_type": "code",
   "execution_count": null,
   "metadata": {
    "collapsed": false
   },
   "outputs": [],
   "source": [
    "# Setting pandas options for interactive displays\n",
    "pd.set_option('display.max_rows', 500)\n",
    "pd.set_option('display.max_columns', 500)\n",
    "pd.set_option('display.width', 1000)\n",
    "pd.set_option('display.max_colwidth', 300)"
   ]
  },
  {
   "cell_type": "code",
   "execution_count": null,
   "metadata": {
    "collapsed": true
   },
   "outputs": [],
   "source": [
    "# Setting specific constants for this run of QC\n",
    "api_url = 'https://ncanda.sri.com/redcap/api/'\n",
    "api_key = os.environ['REDCAP_API_KEY']\n",
    "api = rc.Project(api_url, api_key)\n",
    "primary_key = api.def_field\n",
    "\n",
    "qc_event = '3y_visit_arm_1'\n",
    "qc_arm = 1"
   ]
  },
  {
   "cell_type": "code",
   "execution_count": null,
   "metadata": {
    "collapsed": true
   },
   "outputs": [],
   "source": [
    "def get_forms_for_qc(rc_api, event, arm=1):\n",
    "    forms_events = rc_api.export_fem(format='df')\n",
    "    return forms_events.\\\n",
    "        query('unique_event_name == @event & arm_num == @arm').\\\n",
    "        form_name.unique().tolist()\n",
    "forms_for_qc = get_forms_for_qc(api, qc_event, qc_arm)"
   ]
  },
  {
   "cell_type": "markdown",
   "metadata": {},
   "source": [
    "At this point, it would be useful to:\n",
    "\n",
    "1. create a dictionary with each form as a dictionary key\n",
    "2. iterate through the dictionary and for each key, export records as df and store that as the value in the dictionary\n",
    "3. optionally, merge the data"
   ]
  },
  {
   "cell_type": "code",
   "execution_count": null,
   "metadata": {
    "collapsed": false
   },
   "outputs": [],
   "source": [
    "def get_data_for_event(rc_api, event, forms=None, arm=1):\n",
    "    if forms is None:\n",
    "        forms = get_forms_for_qc(rc_api, event, arm)\n",
    "    \n",
    "    return dict((form_name, \n",
    "                 rc_api.export_records(format='df',\n",
    "                                       fields=[rc_api.def_field], \n",
    "                                       events=[event],\n",
    "                                       forms=[form_name]).\\\n",
    "                 reset_index(level='redcap_event_name', \n",
    "                             drop=True)) \n",
    "                for form_name in forms)\n",
    "data_all = get_data_for_event(api, qc_event)"
   ]
  },
  {
   "cell_type": "code",
   "execution_count": null,
   "metadata": {
    "collapsed": false
   },
   "outputs": [],
   "source": [
    "# Save the intermediate product if needed\n",
    "save_to_csv = False\n",
    "if save_to_csv:\n",
    "    [df.to_csv(\"data_20180226/\" + form + '.csv') for form, df in data_all.items()]"
   ]
  },
  {
   "cell_type": "code",
   "execution_count": null,
   "metadata": {
    "collapsed": false
   },
   "outputs": [],
   "source": [
    "def merge_df_from_forms(form_names, data_all):\n",
    "    \"\"\" Return a single pandas.DataFrame merged from data frames stored in a dict.\n",
    "    \n",
    "    `form_names` is assumed to be a list of keys, all of which exist in `data_all`.\n",
    "    \n",
    "    All data frames in the dictionary are assumed to be sharing their index.\"\"\"\n",
    "    selected_forms = itemgetter(*form_names)(data_all)\n",
    "    return reduce(lambda x, y: pd.merge(x, y, left_index=True, right_index=True), selected_forms)"
   ]
  },
  {
   "cell_type": "markdown",
   "metadata": {},
   "source": [
    "# Metadata / notes / dates\n",
    "A data frame to later left-join in order to check that there's no documented reason for the flagged concern."
   ]
  },
  {
   "cell_type": "code",
   "execution_count": null,
   "metadata": {
    "collapsed": true
   },
   "outputs": [],
   "source": [
    "all_meta = {form: data_all[form].filter(regex=r'_date$|_notes?$') for form in forms_for_qc}"
   ]
  },
  {
   "cell_type": "code",
   "execution_count": null,
   "metadata": {
    "collapsed": false
   },
   "outputs": [],
   "source": [
    "meta_df = reduce(lambda x, y: pd.merge(x, y, left_index=True, right_index=True), \n",
    "                 all_meta.values())\n",
    "notes_df = meta_df.filter(regex=r'_notes?$')\n",
    "dates_df = meta_df.filter(regex=r'_date$')"
   ]
  },
  {
   "cell_type": "markdown",
   "metadata": {},
   "source": [
    "# Presence check: visit\n",
    "\n",
    "Participants should either have a visit date or should be marked and explained for having missed it."
   ]
  },
  {
   "cell_type": "code",
   "execution_count": null,
   "metadata": {
    "collapsed": false
   },
   "outputs": [],
   "source": [
    "data_all['visit_date'].query('visit_date != visit_date & visit_ignore___yes != 1')"
   ]
  },
  {
   "cell_type": "markdown",
   "metadata": {},
   "source": [
    "# Quality / presence check: MRI"
   ]
  },
  {
   "cell_type": "code",
   "execution_count": null,
   "metadata": {
    "collapsed": true
   },
   "outputs": [],
   "source": [
    "# 1. Do you have a visit date?\n",
    "def has_visit(all_forms_data):\n",
    "    return all_forms_data['visit_date']['visit_date'].notnull()"
   ]
  },
  {
   "cell_type": "code",
   "execution_count": null,
   "metadata": {
    "collapsed": false
   },
   "outputs": [],
   "source": [
    "def has_missing_scans(all_forms_data):\n",
    "    # 2. Do you have any missing scan dates?\n",
    "    missing_scan_date = all_forms_data['mr_session_report'].\\\n",
    "        filter(regex=r'_date$').isnull().any(axis=1)\n",
    "    # 3. Are you marked as not missing?\n",
    "    not_marked_missing = all_forms_data['mr_session_report']['mri_missing'].isnull()\n",
    "    return missing_scan_date & not_marked_missing"
   ]
  },
  {
   "cell_type": "code",
   "execution_count": null,
   "metadata": {
    "collapsed": true
   },
   "outputs": [],
   "source": [
    "def show_mr_flags(all_forms_data):\n",
    "    flagged_subset = all_forms_data['mr_session_report'][has_visit(data_all) & \n",
    "                                                         has_missing_scans(data_all)]\n",
    "    return pd.merge(flagged_subset, \n",
    "                    data_all['visit_date'], \n",
    "                    how='left', \n",
    "                    left_index=True, right_index=True)"
   ]
  },
  {
   "cell_type": "code",
   "execution_count": null,
   "metadata": {
    "collapsed": false
   },
   "outputs": [],
   "source": [
    "show_mr_flags(data_all).filter(regex=r'^mri_xnat|_date$|missing$|visit_notes|mri_notes')"
   ]
  },
  {
   "cell_type": "markdown",
   "metadata": {},
   "source": [
    "After this, the follow-up would be to:\n",
    "\n",
    "1. Check the notes of this final subset to see if scan absence is indicated. If not, contact the sites.\n",
    "2. Ask sites to either (1) upload the scans or (2) update `mri_missing` (if _all_ scans are missing) or `mri_notes` (if _some_ scans are missing)"
   ]
  },
  {
   "cell_type": "markdown",
   "metadata": {},
   "source": [
    "# Quality check: NPs"
   ]
  },
  {
   "cell_type": "markdown",
   "metadata": {},
   "source": [
    "Now, the general quality check follows this logic:\n",
    "\n",
    "1. Is there a visit date?\n",
    "2. If yes, are the NPs filled out? / How many NPs in each form are filled out?"
   ]
  },
  {
   "cell_type": "code",
   "execution_count": null,
   "metadata": {
    "collapsed": false
   },
   "outputs": [],
   "source": [
    "np_keys = filter(lambda x: x.startswith('np'), data_all.keys())\n",
    "np_keys = ['visit_date'] + np_keys"
   ]
  },
  {
   "cell_type": "code",
   "execution_count": null,
   "metadata": {
    "collapsed": false
   },
   "outputs": [],
   "source": [
    "np_data = itemgetter(*np_keys)(data_all)"
   ]
  },
  {
   "cell_type": "code",
   "execution_count": null,
   "metadata": {
    "collapsed": false
   },
   "outputs": [],
   "source": [
    "# merging on indices which are guaranteed to be shared\n",
    "np_data_all = reduce(lambda x, y: pd.merge(x, y, left_index=True, right_index=True), np_data)"
   ]
  },
  {
   "cell_type": "markdown",
   "metadata": {},
   "source": [
    "With most forms, we might be interested in the number of non-answers. After all, there's a lot of fields that patients fill out:"
   ]
  },
  {
   "cell_type": "code",
   "execution_count": null,
   "metadata": {
    "collapsed": true
   },
   "outputs": [],
   "source": [
    "{form: df.columns.tolist() for form, df in data_all.items()}"
   ]
  },
  {
   "cell_type": "markdown",
   "metadata": {},
   "source": [
    "...so we'll re-shape them from wide to long and count up the absences.\n",
    "\n",
    "## WRAT4\n",
    "\n",
    "Trying the approach out on WRAT4, we do the following:\n",
    "\n",
    "1. check that the record is not missing (should also check presence of visit date - or maybe subjects without visit date should have been purged at an earlier stage?)\n",
    "2. check that the record is completed (=2)\n",
    "3. stack the substantive fields and flag subjects with fewer than max responses\n",
    "\n",
    "Step 3 ensures that we don't flag forms nobody has answered. It does rely on the intuition that if someone has answered a field, everyone should. It would fail for casees where many people have the same *number* of non-answers, but each in different fields. It certainly fails in more complex forms where some a field's necessity is conditional on previous responses."
   ]
  },
  {
   "cell_type": "code",
   "execution_count": null,
   "metadata": {
    "collapsed": false
   },
   "outputs": [],
   "source": [
    "# ^((?!missing|complete).)*$ is negative lookahead matching everything except the string 'missing'\n",
    "np_iter = data_all['np_wrat4_word_reading_and_math_computation']\\\n",
    "    .query('np_wrat4_missing != 1 & np_wrat4_word_reading_and_math_computation_complete == 2')\\\n",
    "    .filter(regex=r'^((?!missing|complete).)*$')\\\n",
    "    .stack(dropna=False)\n",
    "    #set_index(['np_wrat4_missing', 'np_wrat4_missing_why', 'np_wrat4_missing_why_other'], append=True).\\"
   ]
  },
  {
   "cell_type": "code",
   "execution_count": null,
   "metadata": {
    "collapsed": false
   },
   "outputs": [],
   "source": [
    "counts = np_iter.count(level=0)\n",
    "incomplete = counts < counts.max()\n",
    "# note: I can't use this to index the original frame because this Series is shorter; \n",
    "#       I can't use .index because all the participants are still in it, regardless\n",
    "#       of truth or falsity of `incomplete`. There should be a more elegant way to do this.\n",
    "#\n",
    "# Maybe a variation on dfd.loc[dfd.index[[0, 2]]]?\n",
    "counts_incomplete = counts[incomplete] "
   ]
  },
  {
   "cell_type": "code",
   "execution_count": null,
   "metadata": {
    "collapsed": false
   },
   "outputs": [],
   "source": [
    "counts_incomplete"
   ]
  },
  {
   "cell_type": "code",
   "execution_count": null,
   "metadata": {
    "collapsed": false,
    "scrolled": true
   },
   "outputs": [],
   "source": [
    "np_iter.loc[counts_incomplete.index.tolist()].isnull()"
   ]
  },
  {
   "cell_type": "markdown",
   "metadata": {},
   "source": [
    "## Wider subset of NP reports"
   ]
  },
  {
   "cell_type": "code",
   "execution_count": null,
   "metadata": {
    "collapsed": false
   },
   "outputs": [],
   "source": [
    "np_forms = forms_for_qc[9:15] # could also filter with a regex"
   ]
  },
  {
   "cell_type": "markdown",
   "metadata": {},
   "source": [
    "### ~~Approach 1: Merge all items and evaluate them together~~\n",
    "This could work but might not have the level of granularity that is useful to a human."
   ]
  },
  {
   "cell_type": "code",
   "execution_count": null,
   "metadata": {
    "collapsed": true
   },
   "outputs": [],
   "source": [
    "#np_data = merge_df_from_forms(['visit_date'] + np_data, data_all)"
   ]
  },
  {
   "cell_type": "markdown",
   "metadata": {},
   "source": [
    "### Approach 2: Evaluate each form separately, bring together the results\n",
    "\n",
    "Using the same drill as for WRAT4. Of course, one issue is that some forms really contain multiple subforms that are not  easily separable:"
   ]
  },
  {
   "cell_type": "code",
   "execution_count": null,
   "metadata": {
    "collapsed": true
   },
   "outputs": [],
   "source": [
    "def get_items_containing(needle, haystack):\n",
    "    return [elt for elt in haystack if needle in elt]\n",
    "def get_items_matching_regex(regex, haystack):\n",
    "    return filter(lambda x: re.search(regex, x), haystack)"
   ]
  },
  {
   "cell_type": "code",
   "execution_count": null,
   "metadata": {
    "collapsed": true
   },
   "outputs": [],
   "source": [
    "{form: get_items_matching_regex(r\"complete$|missing$\", df.columns) for form, df in data_all.items()}"
   ]
  },
  {
   "cell_type": "markdown",
   "metadata": {},
   "source": [
    "You can see the \"multiple\" subforms e.g. in form `clinical`, which has multiple completion variables (but no missingness variables - which is a separate problem).\n",
    "\n",
    "As for why they're not easily separable, consider that the naming convention isn't stable: in `biological_mr`, the completion variable is `biological_mr_complete`, but the missingness variable is `bio_mr_complete`.\n",
    "\n",
    "Since there's only 35 forms, and only a bunch don't follow rules, creating custom rules for each in order to be able to do the broader QC check on all is not impossible, merely inelegant."
   ]
  },
  {
   "cell_type": "code",
   "execution_count": null,
   "metadata": {
    "collapsed": false
   },
   "outputs": [],
   "source": [
    "def flag_incomplete_forms(df):\n",
    "    # some forms don't have it, some forms have it for multiple subsections\n",
    "    cols_missing = get_items_matching_regex(r'missing$', df.columns)\n",
    "    # all forms have it, some forms have it for multiple subsections\n",
    "    cols_complete = get_items_matching_regex(\"complete$\", df.columns)\n",
    "    \n",
    "    if len(cols_complete) > 1: # TODO: In the future, don't give up\n",
    "        return \"Too many complete fields\"\n",
    "    \n",
    "    # Constructing the query\n",
    "    # \n",
    "    # We want to flag a participant for whom:\n",
    "    # 1. one or more subsections were *not* marked missing\n",
    "    # 2. one or more subsections of the record were marked complete\n",
    "    # \n",
    "    # The issue making this difficult is that there isn't necessarily a\n",
    "    # one-to-one matching between the presence of missingness cols and \n",
    "    # the presence of completeness cols.\n",
    "    #\n",
    "    # In general, though, if at least one section is not marked missing,\n",
    "    # and if at least one section is marked complete, the subject is game.\n",
    "    #\n",
    "    # (Future direction: plug-in lambdas for each form?)\n",
    "    query_present_complete = \"%s == 2\" % cols_complete[0]\n",
    "    if len(cols_missing) == 1:\n",
    "        query_present = \"%s != 1\" % cols_missing[0]\n",
    "        query_present_complete = query_present_complete + \" and \" + query_present\n",
    "    \n",
    "    df_relevant = df.query(query_present_complete)\n",
    "    if len(df_relevant) == 0:\n",
    "        return \"No participants filled out the form\"\n",
    "    \n",
    "    # Now, remove all complete / missing columns and stack\n",
    "    df_relevant = df_relevant.filter(regex=r'^((?!missing|complete).)*$').\\\n",
    "        stack(dropna=False)\n",
    "    counts = df_relevant.count(level=0)\n",
    "    incomplete = counts < counts.max()\n",
    "    counts_incomplete = counts[incomplete]\n",
    "    \n",
    "    return counts_incomplete.index.tolist()"
   ]
  },
  {
   "cell_type": "code",
   "execution_count": null,
   "metadata": {
    "collapsed": false,
    "scrolled": true
   },
   "outputs": [],
   "source": [
    "# map(flag_incomplete_forms, np_data)\n",
    "np_flags = {form: flag_incomplete_forms(data_all[form]) for form in np_forms}\n",
    "np_flags"
   ]
  },
  {
   "cell_type": "code",
   "execution_count": null,
   "metadata": {
    "collapsed": false
   },
   "outputs": [],
   "source": [
    "all_flags = {form: flag_incomplete_forms(data_all[form]) for form in forms_for_qc}\n",
    "all_flags"
   ]
  },
  {
   "cell_type": "code",
   "execution_count": null,
   "metadata": {
    "collapsed": true
   },
   "outputs": [],
   "source": [
    "def checker(flags_dict, data_dict):\n",
    "    def check_form(form_name):\n",
    "        if form_name not in flags_dict or form_name not in data_dict:\n",
    "            return None\n",
    "        else:\n",
    "            return pd.merge(notes_df, data_dict[form_name].loc[flags_dict[form_name]],\n",
    "                            how='right', left_index=True, right_index=True)\n",
    "    return check_form\n",
    "check_form = checker(all_flags, data_all)"
   ]
  },
  {
   "cell_type": "code",
   "execution_count": null,
   "metadata": {
    "collapsed": false
   },
   "outputs": [],
   "source": [
    "check_form('brief')"
   ]
  },
  {
   "cell_type": "code",
   "execution_count": null,
   "metadata": {
    "collapsed": false
   },
   "outputs": [],
   "source": [
    "check_form('stroop')"
   ]
  },
  {
   "cell_type": "code",
   "execution_count": null,
   "metadata": {
    "collapsed": false
   },
   "outputs": [],
   "source": [
    "check_form('np_wrat4_word_reading_and_math_computation')"
   ]
  },
  {
   "cell_type": "code",
   "execution_count": null,
   "metadata": {
    "collapsed": false
   },
   "outputs": [],
   "source": [
    "check_form('np_reyosterrieth_complex_figure')"
   ]
  },
  {
   "cell_type": "code",
   "execution_count": null,
   "metadata": {
    "collapsed": false
   },
   "outputs": [],
   "source": [
    "check_form('np_reyosterrieth_complex_figure_files')"
   ]
  },
  {
   "cell_type": "code",
   "execution_count": null,
   "metadata": {
    "collapsed": false,
    "scrolled": true
   },
   "outputs": [],
   "source": [
    "check_form('np_modified_greglygraybiel_test_of_ataxia')"
   ]
  },
  {
   "cell_type": "code",
   "execution_count": null,
   "metadata": {
    "collapsed": false,
    "scrolled": true
   },
   "outputs": [],
   "source": [
    "check_form('parent_report')"
   ]
  },
  {
   "cell_type": "code",
   "execution_count": null,
   "metadata": {
    "collapsed": false,
    "scrolled": false
   },
   "outputs": [],
   "source": [
    "check_form('participant_last_use_summary')"
   ]
  },
  {
   "cell_type": "code",
   "execution_count": null,
   "metadata": {
    "collapsed": false
   },
   "outputs": [],
   "source": [
    "# flagged_data = {form: data_all[form].loc[flags] for form, flags in all_flags.values() if isinstance(flags, list)}"
   ]
  }
 ],
 "metadata": {
  "kernelspec": {
   "display_name": "Python 2",
   "language": "python",
   "name": "python2"
  },
  "language_info": {
   "codemirror_mode": {
    "name": "ipython",
    "version": 2
   },
   "file_extension": ".py",
   "mimetype": "text/x-python",
   "name": "python",
   "nbconvert_exporter": "python",
   "pygments_lexer": "ipython2",
   "version": "2.7.12"
  }
 },
 "nbformat": 4,
 "nbformat_minor": 0
}
